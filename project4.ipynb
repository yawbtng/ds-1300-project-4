{
 "cells": [
  {
   "cell_type": "markdown",
   "metadata": {},
   "source": [
    "# Step 0: Setup Imports and File Structure\n",
    "\n",
    "## Outline\n",
    "Before any analysis, we must ensure our environment is reproducible and our outputs are organized. This block imports all necessary libraries and creates the output directory for figures.\n",
    "\n",
    "## So what?\n",
    "This guarantees that anyone can rerun the notebook and find all results in a consistent place, supporting transparency and reproducibility."
   ]
  },
  {
   "cell_type": "code",
   "execution_count": 1,
   "metadata": {},
   "outputs": [],
   "source": [
    "# Why: Set up environment and file structure for reproducible analysis\n",
    "import os\n",
    "import pandas as pd\n",
    "import numpy as np\n",
    "import matplotlib.pyplot as plt\n",
    "from scipy import stats\n",
    "import statsmodels.api as sm\n",
    "import statsmodels.formula.api as smf\n",
    "\n",
    "os.makedirs('outputs/figs', exist_ok=True)  # Why: Ensure output dir for saving figures"
   ]
  },
  {
   "cell_type": "markdown",
   "metadata": {},
   "source": [
    "# Step 1: Ingest & Quick Clean\n",
    "\n",
    "## Outline:\n",
    "This block brings in all the raw data sources, aligns them, and engineers the key “gap” variables that drive our analysis. We also log any data lost in the process.\n",
    "\n",
    "So what? Clean, well-aligned data is the foundation for valid statistical inference. The engineered variables (unemp_gap_pp, occ_vs_nat_pp) are central to our hypotheses about risk and pay."
   ]
  },
  {
   "cell_type": "code",
   "execution_count": 25,
   "metadata": {},
   "outputs": [],
   "source": [
    "# Why: Ingest and align all core data sources for analysis\n",
    "\n",
    "import logging\n",
    "logging.basicConfig(level=logging.INFO)\n",
    "\n",
    "# 1. Read recent-grads.csv\n",
    "grads = pd.read_csv('data/recent-grads.csv')\n",
    "\n",
    "# 2. Read FRED BA unemployment, parse dates, get latest value ×100\n",
    "fred = pd.read_csv('data/LNS14027662.csv', parse_dates=['observation_date'])\n",
    "baseline = fred['LNS14027662'].iloc[-1] * 100  # Apr 2025 value\n",
    "\n",
    "# 3. Read CPS A-25, skip 6 rows, select first 3 columns, rename\n",
    "a25 = pd.read_excel('data/cpsaat25.xlsx', skiprows=6, usecols=[0,1,2],\n",
    "                    names=['Occupation', 'unemp_thou', 'occ_unemp_rate'])\n"
   ]
  },
  {
   "cell_type": "code",
   "execution_count": 26,
   "metadata": {},
   "outputs": [
    {
     "name": "stderr",
     "output_type": "stream",
     "text": [
      "INFO:root:Rows dropped due to NA in gap vars: 917\n"
     ]
    }
   ],
   "source": [
    "\n",
    "# 4. Map Major_category to Occupation (example mapping—replace as needed)\n",
    "major_to_occ = {\n",
    "    'Engineering': 'Architecture and engineering occupations',\n",
    "    'Business': 'Business and financial operations occupations',\n",
    "    # ...add all present in grads['Major_category'].unique()\n",
    "}\n",
    "grads['Occupation'] = grads['Major_category'].map(major_to_occ)\n",
    "\n",
    "# 5. Merge grads with A-25 on Occupation (left join)\n",
    "grads = grads.merge(a25, on='Occupation', how='left', indicator=True)\n",
    "unmatched = grads['_merge'].value_counts().get('left_only', 0)\n",
    "if unmatched > 0:\n",
    "    logging.info(f'Unmatched rows after merge: {unmatched}')\n",
    "grads.drop(columns=['_merge'], inplace=True)\n",
    "\n",
    "# 6. Compute gap variables\n",
    "grads['unemp_gap_pp'] = grads['Unemployment_rate'] * 100 - baseline\n",
    "grads['occ_vs_nat_pp'] = grads['occ_unemp_rate'] - baseline\n",
    "\n",
    "# 7. Drop NAs in new columns, log how many lost\n",
    "before = grads.shape[0]\n",
    "grads = grads.dropna(subset=['unemp_gap_pp', 'occ_vs_nat_pp'])\n",
    "after = grads.shape[0]\n",
    "logging.info(f'Rows dropped due to NA in gap vars: {before - after}')"
   ]
  },
  {
   "cell_type": "markdown",
   "metadata": {},
   "source": [
    "# Step 2A: H₁ – High-risk vs Low-risk Majors (Welch t-test on Median Salary)\n",
    "\n",
    "## Research Question\n",
    "Does job market risk translate into lower pay for new graduates?\n",
    "\n",
    "## Analysis Plan\n",
    "- Split majors into high-risk and low-risk groups based on occupation-level unemployment rates\n",
    "- Compare median salaries between groups using Welch's t-test\n",
    "- Visualize salary distributions with boxplots\n",
    "\n",
    "## Expected Impact\n",
    "- Inform students about risk-reward tradeoffs in major selection\n",
    "- Guide policymakers in understanding labor market dynamics\n",
    "- Help career counselors provide data-driven advice\n",
    "\n",
    "## Statistical Approach\n",
    "- Independent samples t-test (Welch's version)\n",
    "- No assumption of equal variances between groups\n",
    "- Visual verification with boxplots"
   ]
  },
  {
   "cell_type": "code",
   "execution_count": 27,
   "metadata": {},
   "outputs": [
    {
     "name": "stderr",
     "output_type": "stream",
     "text": [
      "C:\\Users\\yawbt\\AppData\\Local\\Temp\\ipykernel_39772\\2181865290.py:12: MatplotlibDeprecationWarning:\n",
      "\n",
      "The 'labels' parameter of boxplot() has been renamed 'tick_labels' since Matplotlib 3.9; support for the old name will be dropped in 3.11.\n",
      "\n"
     ]
    },
    {
     "data": {
      "image/png": "[encoded data removed]",
      "text/plain": [
       "<Figure size 600x400 with 1 Axes>"
      ]
     },
     "metadata": {},
     "output_type": "display_data"
    }
   ],
   "source": [
    "# Why: Test if occupation-level unemployment risk predicts salary differences\n",
    "\n",
    "# Split majors by occupation risk\n",
    "high = grads.loc[grads.occ_vs_nat_pp > 0, \"Median\"]\n",
    "low  = grads.loc[grads.occ_vs_nat_pp <= 0, \"Median\"]\n",
    "\n",
    "# Welch's t-test (unequal variances)\n",
    "t, p = stats.ttest_ind(high, low, equal_var=False)\n",
    "\n",
    "# Boxplot\n",
    "plt.figure(figsize=(6,4))\n",
    "plt.boxplot([high, low], labels=['High-risk', 'Low-risk'])\n",
    "plt.title('Median Salary by Occupation Unemployment Risk')\n",
    "plt.ylabel('Median Salary ($)')\n",
    "plt.annotate(f'p = {p:.3g}', xy=(1, max(high.max(), low.max())), xytext=(0.5, 0.95),\n",
    "             textcoords='axes fraction', ha='center', fontsize=10, bbox=dict(boxstyle='round', fc='w'))\n",
    "plt.savefig('outputs/figs/fig1_ttest.png', dpi=300)\n",
    "plt.savefig('outputs/figs/fig1_ttest.svg')\n",
    "plt.show()"
   ]
  },
  {
   "cell_type": "markdown",
   "metadata": {},
   "source": [
    "# Step 2B: H₂ – ANOVA of Unemployment Gap Across Gender Buckets\n",
    "\n",
    "## Research Question\n",
    "Does gender composition of majors influence unemployment outcomes?\n",
    "\n",
    "## Analysis Plan\n",
    "- Categorize majors into gender buckets (Male-dominated, Mixed, Female-dominated)\n",
    "- Compare unemployment gaps across buckets using ANOVA\n",
    "- Visualize differences with bar plots and error bars\n",
    "\n",
    "## Expected Impact\n",
    "- Identify potential gender-based disparities in job market outcomes\n",
    "- Inform discussions about gender equity in higher education\n",
    "- Guide career counseling for students considering different majors\n",
    "\n",
    "## Statistical Approach\n",
    "- One-way ANOVA to test group differences\n",
    "- Post-hoc analysis of group means\n",
    "- Visualization with error bars for uncertainty"
   ]
  },
  {
   "cell_type": "code",
   "execution_count": 31,
   "metadata": {},
   "outputs": [
    {
     "name": "stdout",
     "output_type": "stream",
     "text": [
      "count    42.000000\n",
      "mean      0.065726\n",
      "std       0.030387\n",
      "min       0.006334\n",
      "25%       0.053161\n",
      "50%       0.061192\n",
      "75%       0.074877\n",
      "max       0.177226\n",
      "Name: Unemployment_rate, dtype: float64\n"
     ]
    }
   ],
   "source": [
    "print(grads[\"Unemployment_rate\"].describe())\n",
    "# You’ll see numbers like 2.1 … 8.5  → already percentages!\n"
   ]
  },
  {
   "cell_type": "code",
   "execution_count": 34,
   "metadata": {},
   "outputs": [
    {
     "name": "stdout",
     "output_type": "stream",
     "text": [
      "count    42.000000\n",
      "mean      4.072639\n",
      "std       3.038655\n",
      "min      -1.866566\n",
      "25%       2.816149\n",
      "50%       3.619213\n",
      "75%       4.987684\n",
      "max      15.222641\n",
      "Name: unemp_gap_pp, dtype: float64\n"
     ]
    },
    {
     "name": "stderr",
     "output_type": "stream",
     "text": [
      "C:\\Users\\yawbt\\AppData\\Local\\Temp\\ipykernel_39772\\1955370443.py:21: FutureWarning:\n",
      "\n",
      "The default of observed=False is deprecated and will be changed to True in a future version of pandas. Pass observed=False to retain current behavior or observed=True to adopt the future default and silence this warning.\n",
      "\n",
      "C:\\Users\\yawbt\\AppData\\Local\\Temp\\ipykernel_39772\\1955370443.py:22: FutureWarning:\n",
      "\n",
      "The default of observed=False is deprecated and will be changed to True in a future version of pandas. Pass observed=False to retain current behavior or observed=True to adopt the future default and silence this warning.\n",
      "\n",
      "C:\\Users\\yawbt\\AppData\\Local\\Temp\\ipykernel_39772\\1955370443.py:31: FutureWarning:\n",
      "\n",
      "Series.__getitem__ treating keys as positions is deprecated. In a future version, integer keys will always be treated as labels (consistent with DataFrame behavior). To access a value by position, use `ser.iloc[pos]`\n",
      "\n"
     ]
    },
    {
     "data": {
      "image/png": "[encoded data removed]",
      "text/plain": [
       "<Figure size 600x400 with 1 Axes>"
      ]
     },
     "metadata": {},
     "output_type": "display_data"
    }
   ],
   "source": [
    "# ── 0. Recompute unemployment gap correctly ────────────────────────────\n",
    "baseline_pp = fred[\"LNS14027662\"].iloc[-1]         # e.g. 2.5 pp\n",
    "\n",
    "grads[\"unemp_gap_pp\"] = grads[\"Unemployment_rate\"] * 100 - baseline_pp\n",
    "# sanity‑check\n",
    "print(grads[\"unemp_gap_pp\"].describe())\n",
    "# → mean around –2 to +4  (NOT –250!)\n",
    "\n",
    "# ── 1. Create gender buckets ───────────────────────────────────────────\n",
    "grads[\"gender_bucket\"] = pd.cut(\n",
    "    grads[\"ShareWomen\"], [0, .35, .65, 1], labels=[\"M\", \"Mix\", \"F\"]\n",
    ")\n",
    "\n",
    "# ── 2. ANOVA ───────────────────────────────────────────────────────────\n",
    "import statsmodels.formula.api as smf, statsmodels.api as sm\n",
    "model  = smf.ols(\"unemp_gap_pp ~ C(gender_bucket)\", data=grads).fit()\n",
    "anova  = sm.stats.anova_lm(model, typ=2)\n",
    "\n",
    "# ── 3. Plot ────────────────────────────────────────────────────────────\n",
    "import matplotlib.pyplot as plt\n",
    "means = grads.groupby(\"gender_bucket\")[\"unemp_gap_pp\"].mean()\n",
    "ses   = grads.groupby(\"gender_bucket\")[\"unemp_gap_pp\"].sem()\n",
    "\n",
    "plt.figure(figsize=(6,4))\n",
    "plt.bar(means.index, means.values, yerr=ses.values,\n",
    "        color=\"#30588C\", capsize=4)\n",
    "plt.axhline(0, color=\"black\", lw=0.8)\n",
    "plt.title(\"Unemployment Gap by Gender Bucket\")\n",
    "plt.ylabel(\"Unemployment Gap (pp)\")\n",
    "plt.xlabel(\"Gender Bucket\")\n",
    "plt.annotate(f\"F = {anova['F'][0]:.2f}, p = {anova['PR(>F)'][0]:.3g}\",\n",
    "             xy=(0.5, 0.96), xycoords=\"axes fraction\",\n",
    "             ha=\"center\", bbox=dict(boxstyle=\"round\", fc=\"white\"))\n",
    "plt.tight_layout()\n",
    "plt.savefig(\"outputs/figs/fig2_anova_fixed.png\", dpi=300)\n",
    "plt.show()\n"
   ]
  },
  {
   "cell_type": "markdown",
   "metadata": {},
   "source": [
    "# Step 2C: H₃ (Extra) – Pearson Correlation: ShareWomen vs Median Salary\n",
    "\n",
    "## Research Question\n",
    "Is there a relationship between the gender composition of majors and their median salaries?\n",
    "\n",
    "## Analysis Plan\n",
    "- Calculate Pearson correlation between ShareWomen and Median salary\n",
    "- Create scatter plot with regression line\n",
    "- Identify and label major outliers\n",
    "\n",
    "## Expected Impact\n",
    "- Quantify potential gender-based salary disparities across majors\n",
    "- Highlight majors that deviate from the general trend\n",
    "- Inform discussions about gender equity in higher education\n",
    "\n",
    "## Statistical Approach\n",
    "- Pearson correlation coefficient\n",
    "- Linear regression for trend line\n",
    "- Residual analysis for outlier identification"
   ]
  },
  {
   "cell_type": "code",
   "execution_count": 7,
   "metadata": {},
   "outputs": [
    {
     "data": {
      "image/png": "[encoded data removed]",
      "text/plain": [
       "<Figure size 600x400 with 1 Axes>"
      ]
     },
     "metadata": {},
     "output_type": "display_data"
    }
   ],
   "source": [
    "# Why: Quantify the gender-pay relationship across majors\n",
    "\n",
    "r, p = stats.pearsonr(grads.ShareWomen, grads.Median)\n",
    "\n",
    "plt.figure(figsize=(6,4))\n",
    "plt.scatter(grads.ShareWomen, grads.Median, alpha=0.7)\n",
    "m, b = np.polyfit(grads.ShareWomen, grads.Median, 1)\n",
    "plt.plot(grads.ShareWomen, m*grads.ShareWomen + b, color='#F4A259')\n",
    "plt.title('Share of Women vs Median Salary')\n",
    "plt.xlabel('Share of Women')\n",
    "plt.ylabel('Median Salary ($)')\n",
    "\n",
    "# Label two largest residuals\n",
    "residuals = grads.Median - (m*grads.ShareWomen + b)\n",
    "for idx in residuals.abs().nlargest(2).index:\n",
    "    plt.annotate(grads.loc[idx, 'Major'], (grads.loc[idx, 'ShareWomen'], grads.loc[idx, 'Median']),\n",
    "                 fontsize=8, color='red')\n",
    "\n",
    "plt.annotate(f'r = {r:.2f}, p = {p:.3g}', xy=(0.05, 0.95), xycoords='axes fraction',\n",
    "             ha='left', fontsize=10, bbox=dict(boxstyle='round', fc='w'))\n",
    "plt.savefig('outputs/figs/fig3_corr.png', dpi=300)\n",
    "plt.savefig('outputs/figs/fig3_corr.svg')\n",
    "plt.show()"
   ]
  },
  {
   "cell_type": "markdown",
   "metadata": {},
   "source": [
    "# Step 3A: Heatmap – Occupation Risk vs Salary Quartile\n",
    "\n",
    "## Research Question\n",
    " How does unemployment risk vary across different occupations and salary levels?\n",
    " \n",
    "## Analysis Plan\n",
    " - Create salary quartiles from median salary data\n",
    " - Generate heatmap showing unemployment risk by occupation and salary quartile\n",
    " - Use color intensity to highlight risk patterns\n",
    " \n",
    "## Expected Impact\n",
    " - Reveal hidden patterns in risk distribution across occupations\n",
    " - Identify high/low risk clusters by salary level\n",
    " - Guide career counseling and policy decisions\n",
    " \n",
    "## Visualization Approach\n",
    " - Heatmap with occupations as rows and salary quartiles as columns\n",
    " - Color gradient showing relative unemployment risk\n",
    " - Clear labeling for easy interpretation"
   ]
  },
  {
   "cell_type": "code",
   "execution_count": 41,
   "metadata": {},
   "outputs": [],
   "source": [
    "# --- remove any stale column created earlier\n",
    "if \"occ_vs_nat_pp\" in grads.columns:\n",
    "    grads.drop(columns=[\"occ_vs_nat_pp\"], inplace=True)\n",
    "\n",
    "# 1️⃣ bring every occ_unemp_rate into a sane % unit (< 20)\n",
    "grads[\"occ_unemp_rate\"] = grads[\"occ_unemp_rate\"].apply(\n",
    "    lambda x: x / 100 if x > 20 else x            # 63 → 0.63\n",
    ")\n",
    "\n",
    "# quick audit\n",
    "assert grads[\"occ_unemp_rate\"].max() < 10, \"Still over‑scaled!\"\n"
   ]
  },
  {
   "cell_type": "code",
   "execution_count": 44,
   "metadata": {},
   "outputs": [
    {
     "name": "stdout",
     "output_type": "stream",
     "text": [
      "occ_unemp_rate sample: 0    0.63\n",
      "1    0.63\n",
      "2    0.63\n",
      "3    0.63\n",
      "4    0.63\n",
      "Name: occ_unemp_rate, dtype: float64\n",
      "nat_rate_pp: 2.5\n"
     ]
    }
   ],
   "source": [
    "print(\"occ_unemp_rate sample:\", grads[\"occ_unemp_rate\"].head())\n",
    "print(\"nat_rate_pp:\", nat_rate_pp)\n"
   ]
  },
  {
   "cell_type": "code",
   "execution_count": null,
   "metadata": {},
   "outputs": [
    {
     "name": "stderr",
     "output_type": "stream",
     "text": [
      "C:\\Users\\yawbt\\AppData\\Local\\Temp\\ipykernel_39772\\250624654.py:5: FutureWarning:\n",
      "\n",
      "The default of observed=False is deprecated and will be changed to True in a future version of pandas. Pass observed=False to retain current behavior or observed=True to adopt the future default and silence this warning.\n",
      "\n"
     ]
    },
    {
     "ename": "KeyError",
     "evalue": "'Column not found: occ_vs_nat_pp'",
     "output_type": "error",
     "traceback": [
      "\u001b[31m---------------------------------------------------------------------------\u001b[39m",
      "\u001b[31mKeyError\u001b[39m                                  Traceback (most recent call last)",
      "\u001b[36mCell\u001b[39m\u001b[36m \u001b[39m\u001b[32mIn[45]\u001b[39m\u001b[32m, line 5\u001b[39m\n\u001b[32m      1\u001b[39m \u001b[38;5;66;03m# salary quartile per major\u001b[39;00m\n\u001b[32m      2\u001b[39m grads[\u001b[33m\"\u001b[39m\u001b[33mquartile\u001b[39m\u001b[33m\"\u001b[39m] = pd.qcut(grads[\u001b[33m\"\u001b[39m\u001b[33mMedian\u001b[39m\u001b[33m\"\u001b[39m], \u001b[32m4\u001b[39m, labels=[\u001b[33m\"\u001b[39m\u001b[33mQ1\u001b[39m\u001b[33m\"\u001b[39m,\u001b[33m\"\u001b[39m\u001b[33mQ2\u001b[39m\u001b[33m\"\u001b[39m,\u001b[33m\"\u001b[39m\u001b[33mQ3\u001b[39m\u001b[33m\"\u001b[39m,\u001b[33m\"\u001b[39m\u001b[33mQ4\u001b[39m\u001b[33m\"\u001b[39m])\n\u001b[32m      4\u001b[39m heat_df = (\n\u001b[32m----> \u001b[39m\u001b[32m5\u001b[39m     \u001b[43mgrads\u001b[49m\u001b[43m.\u001b[49m\u001b[43mgroupby\u001b[49m\u001b[43m(\u001b[49m\u001b[43m[\u001b[49m\u001b[33;43m\"\u001b[39;49m\u001b[33;43mOccupation\u001b[39;49m\u001b[33;43m\"\u001b[39;49m\u001b[43m,\u001b[49m\u001b[33;43m\"\u001b[39;49m\u001b[33;43mquartile\u001b[39;49m\u001b[33;43m\"\u001b[39;49m\u001b[43m]\u001b[49m\u001b[43m)\u001b[49m\u001b[43m[\u001b[49m\u001b[33;43m\"\u001b[39;49m\u001b[33;43mocc_vs_nat_pp\u001b[39;49m\u001b[33;43m\"\u001b[39;49m\u001b[43m]\u001b[49m\n\u001b[32m      6\u001b[39m          .mean().unstack()\n\u001b[32m      7\u001b[39m )\n\u001b[32m      9\u001b[39m \u001b[38;5;28;01mimport\u001b[39;00m\u001b[38;5;250m \u001b[39m\u001b[34;01mseaborn\u001b[39;00m\u001b[38;5;250m \u001b[39m\u001b[38;5;28;01mas\u001b[39;00m\u001b[38;5;250m \u001b[39m\u001b[34;01msns\u001b[39;00m,\u001b[38;5;250m \u001b[39m\u001b[34;01mmatplotlib\u001b[39;00m\u001b[34;01m.\u001b[39;00m\u001b[34;01mpyplot\u001b[39;00m\u001b[38;5;250m \u001b[39m\u001b[38;5;28;01mas\u001b[39;00m\u001b[38;5;250m \u001b[39m\u001b[34;01mplt\u001b[39;00m\n\u001b[32m     10\u001b[39m plt.figure(figsize=(\u001b[32m8\u001b[39m,\u001b[32m6\u001b[39m))\n",
      "\u001b[36mFile \u001b[39m\u001b[32mc:\\Users\\yawbt\\Documents\\DS 1300\\Project4\\.venv\\Lib\\site-packages\\pandas\\core\\groupby\\generic.py:1951\u001b[39m, in \u001b[36mDataFrameGroupBy.__getitem__\u001b[39m\u001b[34m(self, key)\u001b[39m\n\u001b[32m   1944\u001b[39m \u001b[38;5;28;01mif\u001b[39;00m \u001b[38;5;28misinstance\u001b[39m(key, \u001b[38;5;28mtuple\u001b[39m) \u001b[38;5;129;01mand\u001b[39;00m \u001b[38;5;28mlen\u001b[39m(key) > \u001b[32m1\u001b[39m:\n\u001b[32m   1945\u001b[39m     \u001b[38;5;66;03m# if len == 1, then it becomes a SeriesGroupBy and this is actually\u001b[39;00m\n\u001b[32m   1946\u001b[39m     \u001b[38;5;66;03m# valid syntax, so don't raise\u001b[39;00m\n\u001b[32m   1947\u001b[39m     \u001b[38;5;28;01mraise\u001b[39;00m \u001b[38;5;167;01mValueError\u001b[39;00m(\n\u001b[32m   1948\u001b[39m         \u001b[33m\"\u001b[39m\u001b[33mCannot subset columns with a tuple with more than one element. \u001b[39m\u001b[33m\"\u001b[39m\n\u001b[32m   1949\u001b[39m         \u001b[33m\"\u001b[39m\u001b[33mUse a list instead.\u001b[39m\u001b[33m\"\u001b[39m\n\u001b[32m   1950\u001b[39m     )\n\u001b[32m-> \u001b[39m\u001b[32m1951\u001b[39m \u001b[38;5;28;01mreturn\u001b[39;00m \u001b[38;5;28;43msuper\u001b[39;49m\u001b[43m(\u001b[49m\u001b[43m)\u001b[49m\u001b[43m.\u001b[49m\u001b[34;43m__getitem__\u001b[39;49m\u001b[43m(\u001b[49m\u001b[43mkey\u001b[49m\u001b[43m)\u001b[49m\n",
      "\u001b[36mFile \u001b[39m\u001b[32mc:\\Users\\yawbt\\Documents\\DS 1300\\Project4\\.venv\\Lib\\site-packages\\pandas\\core\\base.py:244\u001b[39m, in \u001b[36mSelectionMixin.__getitem__\u001b[39m\u001b[34m(self, key)\u001b[39m\n\u001b[32m    242\u001b[39m \u001b[38;5;28;01melse\u001b[39;00m:\n\u001b[32m    243\u001b[39m     \u001b[38;5;28;01mif\u001b[39;00m key \u001b[38;5;129;01mnot\u001b[39;00m \u001b[38;5;129;01min\u001b[39;00m \u001b[38;5;28mself\u001b[39m.obj:\n\u001b[32m--> \u001b[39m\u001b[32m244\u001b[39m         \u001b[38;5;28;01mraise\u001b[39;00m \u001b[38;5;167;01mKeyError\u001b[39;00m(\u001b[33mf\u001b[39m\u001b[33m\"\u001b[39m\u001b[33mColumn not found: \u001b[39m\u001b[38;5;132;01m{\u001b[39;00mkey\u001b[38;5;132;01m}\u001b[39;00m\u001b[33m\"\u001b[39m)\n\u001b[32m    245\u001b[39m     ndim = \u001b[38;5;28mself\u001b[39m.obj[key].ndim\n\u001b[32m    246\u001b[39m     \u001b[38;5;28;01mreturn\u001b[39;00m \u001b[38;5;28mself\u001b[39m._gotitem(key, ndim=ndim)\n",
      "\u001b[31mKeyError\u001b[39m: 'Column not found: occ_vs_nat_pp'"
     ]
    }
   ],
   "source": [
    "# salary quartile per major\n",
    "grads[\"quartile\"] = pd.qcut(grads[\"Median\"], 4, labels=[\"Q1\",\"Q2\",\"Q3\",\"Q4\"])\n",
    "\n",
    "heat_df = (\n",
    "    grads.groupby([\"Occupation\",\"quartile\"])[\"occ_vs_nat_pp\"]\n",
    "         .mean().unstack()\n",
    ")\n",
    "\n",
    "import seaborn as sns, matplotlib.pyplot as plt\n",
    "plt.figure(figsize=(8,6))\n",
    "sns.heatmap(\n",
    "    heat_df, cmap=\"coolwarm\", center=0, annot=True, fmt=\".1f\",\n",
    "    cbar_kws={\"label\":\"Occ vs Nat Unemp (pp)\"}\n",
    ")\n",
    "plt.title(\"Occupation Unemployment Risk by Salary Quartile\")\n",
    "plt.ylabel(\"Occupation\")\n",
    "plt.xlabel(\"Salary Quartile\")\n",
    "plt.tight_layout()\n",
    "plt.show()\n"
   ]
  },
  {
   "cell_type": "markdown",
   "metadata": {},
   "source": [
    "# Step 3B: Time-Series Extra – FRED BA Unemployment with Arrow\n",
    "## Outline:\n",
    "\n",
    "This block plots the full time series of BA unemployment, highlighting the COVID-19 spike.\n",
    "\n",
    "So what? It provides macroeconomic context for the entire analysis, showing how external shocks (like COVID-19) can reshape the job market for new grads."
   ]
  },
  {
   "cell_type": "code",
   "execution_count": 9,
   "metadata": {},
   "outputs": [
    {
     "data": {
      "image/png": "[encoded data removed]",
      "text/plain": [
       "<Figure size 800x400 with 1 Axes>"
      ]
     },
     "metadata": {},
     "output_type": "display_data"
    }
   ],
   "source": [
    "# Why: Contextualize BA unemployment trends and highlight COVID-19 spike\n",
    "\n",
    "plt.figure(figsize=(8, 4))\n",
    "plt.plot(fred['observation_date'], fred['LNS14027662']*100, color='#30588C')\n",
    "plt.title('US Bachelor’s Unemployment Rate (FRED, 1992–2025)')\n",
    "plt.xlabel('Year')\n",
    "plt.ylabel('Unemployment Rate (%)')\n",
    "\n",
    "# Annotate Apr 2020 spike\n",
    "spike_idx = fred['observation_date'].searchsorted(pd.Timestamp('2020-04-01'))\n",
    "spike_x = fred['observation_date'].iloc[spike_idx]\n",
    "spike_y = fred['LNS14027662'].iloc[spike_idx]*100\n",
    "plt.annotate('COVID-19 spike', xy=(spike_x, spike_y), xytext=(spike_x, spike_y+2),\n",
    "             arrowprops=dict(facecolor='#F4A259', shrink=0.05), ha='center', fontsize=10)\n",
    "\n",
    "plt.tight_layout()\n",
    "plt.savefig('outputs/figs/fig5_timeseries.png', dpi=300)\n",
    "plt.savefig('outputs/figs/fig5_timeseries.svg')\n",
    "plt.show()"
   ]
  },
  {
   "cell_type": "markdown",
   "metadata": {},
   "source": [
    "# Step 3C: Geographic Variation in Salaries by Major\n",
    "## Outline:\n",
    "This step brings a spatial lens to our analysis by examining how average salaries for different majors (mapped to occupations) vary across US states. By merging our major-to-occupation mapping with BLS state-level wage data, we can visualize and test for regional pay differences—crucial for students and policymakers considering not just “what” but “where” to work.\n",
    "\n",
    "## So what?\n",
    "Geography is a major driver of opportunity. This analysis reveals where certain majors command higher pay, helping students make informed decisions and highlighting regional economic strengths or disparities."
   ]
  },
  {
   "cell_type": "code",
   "execution_count": 22,
   "metadata": {},
   "outputs": [
    {
     "name": "stdout",
     "output_type": "stream",
     "text": [
      "ANOVA across majors: F=33.21, p=0.0000\n"
     ]
    },
    {
     "data": {
      "application/vnd.plotly.v1+json": {
       "config": {
        "plotlyServerURL": "https://plot.ly"
       },
       "data": [
        {
         "colorscale": [
          [
           0,
           "#636efa"
          ],
          [
           1,
           "#636efa"
          ]
         ],
         "geo": "geo",
         "hovertemplate": "<b>%{location}</b><br>Avg Salary: $%{z:,.0f}<extra></extra>",
         "locationmode": "USA-states",
         "locations": [
          "AK"
         ],
         "name": "110330.0",
         "showlegend": true,
         "showscale": false,
         "type": "choropleth",
         "z": [
          1
         ]
        },
        {
         "colorscale": [
          [
           0,
           "#EF553B"
          ],
          [
           1,
           "#EF553B"
          ]
         ],
         "geo": "geo",
         "hovertemplate": "<b>%{location}</b><br>Avg Salary: $%{z:,.0f}<extra></extra>",
         "locationmode": "USA-states",
         "locations": [
          "AL"
         ],
         "name": "105480.0",
         "showlegend": true,
         "showscale": false,
         "type": "choropleth",
         "z": [
          1
         ]
        },
        {
         "colorscale": [
          [
           0,
           "#00cc96"
          ],
          [
           1,
           "#00cc96"
          ]
         ],
         "geo": "geo",
         "hovertemplate": "<b>%{location}</b><br>Avg Salary: $%{z:,.0f}<extra></extra>",
         "locationmode": "USA-states",
         "locations": [
          "AR"
         ],
         "name": "81320.0",
         "showlegend": true,
         "showscale": false,
         "type": "choropleth",
         "z": [
          1
         ]
        },
        {
         "colorscale": [
          [
           0,
           "#ab63fa"
          ],
          [
           1,
           "#ab63fa"
          ]
         ],
         "geo": "geo",
         "hovertemplate": "<b>%{location}</b><br>Avg Salary: $%{z:,.0f}<extra></extra>",
         "locationmode": "USA-states",
         "locations": [
          "AZ"
         ],
         "name": "105620.0",
         "showlegend": true,
         "showscale": false,
         "type": "choropleth",
         "z": [
          1
         ]
        },
        {
         "colorscale": [
          [
           0,
           "#FFA15A"
          ],
          [
           1,
           "#FFA15A"
          ]
         ],
         "geo": "geo",
         "hovertemplate": "<b>%{location}</b><br>Avg Salary: $%{z:,.0f}<extra></extra>",
         "locationmode": "USA-states",
         "locations": [
          "CA"
         ],
         "name": "127090.0",
         "showlegend": true,
         "showscale": false,
         "type": "choropleth",
         "z": [
          1
         ]
        },
        {
         "colorscale": [
          [
           0,
           "#19d3f3"
          ],
          [
           1,
           "#19d3f3"
          ]
         ],
         "geo": "geo",
         "hovertemplate": "<b>%{location}</b><br>Avg Salary: $%{z:,.0f}<extra></extra>",
         "locationmode": "USA-states",
         "locations": [
          "CT"
         ],
         "name": "106530.0",
         "showlegend": true,
         "showscale": false,
         "type": "choropleth",
         "z": [
          1
         ]
        },
        {
         "colorscale": [
          [
           0,
           "#FF6692"
          ],
          [
           1,
           "#FF6692"
          ]
         ],
         "geo": "geo",
         "hovertemplate": "<b>%{location}</b><br>Avg Salary: $%{z:,.0f}<extra></extra>",
         "locationmode": "USA-states",
         "locations": [
          "DC"
         ],
         "name": "133310.0",
         "showlegend": true,
         "showscale": false,
         "type": "choropleth",
         "z": [
          1
         ]
        },
        {
         "colorscale": [
          [
           0,
           "#B6E880"
          ],
          [
           1,
           "#B6E880"
          ]
         ],
         "geo": "geo",
         "hovertemplate": "<b>%{location}</b><br>Avg Salary: $%{z:,.0f}<extra></extra>",
         "locationmode": "USA-states",
         "locations": [
          "DE"
         ],
         "name": "98790.0",
         "showlegend": true,
         "showscale": false,
         "type": "choropleth",
         "z": [
          1
         ]
        },
        {
         "colorscale": [
          [
           0,
           "#FF97FF"
          ],
          [
           1,
           "#FF97FF"
          ]
         ],
         "geo": "geo",
         "hovertemplate": "<b>%{location}</b><br>Avg Salary: $%{z:,.0f}<extra></extra>",
         "locationmode": "USA-states",
         "locations": [
          "FL"
         ],
         "name": "95380.0",
         "showlegend": true,
         "showscale": false,
         "type": "choropleth",
         "z": [
          1
         ]
        },
        {
         "colorscale": [
          [
           0,
           "#FECB52"
          ],
          [
           1,
           "#FECB52"
          ]
         ],
         "geo": "geo",
         "hovertemplate": "<b>%{location}</b><br>Avg Salary: $%{z:,.0f}<extra></extra>",
         "locationmode": "USA-states",
         "locations": [
          "GA",
          "ID"
         ],
         "name": "96950.0",
         "showlegend": true,
         "showscale": false,
         "type": "choropleth",
         "z": [
          1,
          1
         ]
        },
        {
         "colorscale": [
          [
           0,
           "#636efa"
          ],
          [
           1,
           "#636efa"
          ]
         ],
         "geo": "geo",
         "hovertemplate": "<b>%{location}</b><br>Avg Salary: $%{z:,.0f}<extra></extra>",
         "locationmode": "USA-states",
         "locations": [
          "HI"
         ],
         "name": "99380.0",
         "showlegend": true,
         "showscale": false,
         "type": "choropleth",
         "z": [
          1
         ]
        },
        {
         "colorscale": [
          [
           0,
           "#EF553B"
          ],
          [
           1,
           "#EF553B"
          ]
         ],
         "geo": "geo",
         "hovertemplate": "<b>%{location}</b><br>Avg Salary: $%{z:,.0f}<extra></extra>",
         "locationmode": "USA-states",
         "locations": [
          "IA"
         ],
         "name": "91680.0",
         "showlegend": true,
         "showscale": false,
         "type": "choropleth",
         "z": [
          1
         ]
        },
        {
         "colorscale": [
          [
           0,
           "#00cc96"
          ],
          [
           1,
           "#00cc96"
          ]
         ],
         "geo": "geo",
         "hovertemplate": "<b>%{location}</b><br>Avg Salary: $%{z:,.0f}<extra></extra>",
         "locationmode": "USA-states",
         "locations": [
          "IL"
         ],
         "name": "98130.0",
         "showlegend": true,
         "showscale": false,
         "type": "choropleth",
         "z": [
          1
         ]
        },
        {
         "colorscale": [
          [
           0,
           "#ab63fa"
          ],
          [
           1,
           "#ab63fa"
          ]
         ],
         "geo": "geo",
         "hovertemplate": "<b>%{location}</b><br>Avg Salary: $%{z:,.0f}<extra></extra>",
         "locationmode": "USA-states",
         "locations": [
          "IN"
         ],
         "name": "91520.0",
         "showlegend": true,
         "showscale": false,
         "type": "choropleth",
         "z": [
          1
         ]
        },
        {
         "colorscale": [
          [
           0,
           "#FFA15A"
          ],
          [
           1,
           "#FFA15A"
          ]
         ],
         "geo": "geo",
         "hovertemplate": "<b>%{location}</b><br>Avg Salary: $%{z:,.0f}<extra></extra>",
         "locationmode": "USA-states",
         "locations": [
          "KS"
         ],
         "name": "91140.0",
         "showlegend": true,
         "showscale": false,
         "type": "choropleth",
         "z": [
          1
         ]
        },
        {
         "colorscale": [
          [
           0,
           "#19d3f3"
          ],
          [
           1,
           "#19d3f3"
          ]
         ],
         "geo": "geo",
         "hovertemplate": "<b>%{location}</b><br>Avg Salary: $%{z:,.0f}<extra></extra>",
         "locationmode": "USA-states",
         "locations": [
          "KY"
         ],
         "name": "86320.0",
         "showlegend": true,
         "showscale": false,
         "type": "choropleth",
         "z": [
          1
         ]
        },
        {
         "colorscale": [
          [
           0,
           "#FF6692"
          ],
          [
           1,
           "#FF6692"
          ]
         ],
         "geo": "geo",
         "hovertemplate": "<b>%{location}</b><br>Avg Salary: $%{z:,.0f}<extra></extra>",
         "locationmode": "USA-states",
         "locations": [
          "LA"
         ],
         "name": "100400.0",
         "showlegend": true,
         "showscale": false,
         "type": "choropleth",
         "z": [
          1
         ]
        },
        {
         "colorscale": [
          [
           0,
           "#B6E880"
          ],
          [
           1,
           "#B6E880"
          ]
         ],
         "geo": "geo",
         "hovertemplate": "<b>%{location}</b><br>Avg Salary: $%{z:,.0f}<extra></extra>",
         "locationmode": "USA-states",
         "locations": [
          "MA"
         ],
         "name": "114700.0",
         "showlegend": true,
         "showscale": false,
         "type": "choropleth",
         "z": [
          1
         ]
        },
        {
         "colorscale": [
          [
           0,
           "#FF97FF"
          ],
          [
           1,
           "#FF97FF"
          ]
         ],
         "geo": "geo",
         "hovertemplate": "<b>%{location}</b><br>Avg Salary: $%{z:,.0f}<extra></extra>",
         "locationmode": "USA-states",
         "locations": [
          "MD"
         ],
         "name": "116380.0",
         "showlegend": true,
         "showscale": false,
         "type": "choropleth",
         "z": [
          1
         ]
        },
        {
         "colorscale": [
          [
           0,
           "#FECB52"
          ],
          [
           1,
           "#FECB52"
          ]
         ],
         "geo": "geo",
         "hovertemplate": "<b>%{location}</b><br>Avg Salary: $%{z:,.0f}<extra></extra>",
         "locationmode": "USA-states",
         "locations": [
          "ME"
         ],
         "name": "94400.0",
         "showlegend": true,
         "showscale": false,
         "type": "choropleth",
         "z": [
          1
         ]
        },
        {
         "colorscale": [
          [
           0,
           "#636efa"
          ],
          [
           1,
           "#636efa"
          ]
         ],
         "geo": "geo",
         "hovertemplate": "<b>%{location}</b><br>Avg Salary: $%{z:,.0f}<extra></extra>",
         "locationmode": "USA-states",
         "locations": [
          "MI"
         ],
         "name": "97070.0",
         "showlegend": true,
         "showscale": false,
         "type": "choropleth",
         "z": [
          1
         ]
        },
        {
         "colorscale": [
          [
           0,
           "#EF553B"
          ],
          [
           1,
           "#EF553B"
          ]
         ],
         "geo": "geo",
         "hovertemplate": "<b>%{location}</b><br>Avg Salary: $%{z:,.0f}<extra></extra>",
         "locationmode": "USA-states",
         "locations": [
          "MN"
         ],
         "name": "96970.0",
         "showlegend": true,
         "showscale": false,
         "type": "choropleth",
         "z": [
          1
         ]
        },
        {
         "colorscale": [
          [
           0,
           "#00cc96"
          ],
          [
           1,
           "#00cc96"
          ]
         ],
         "geo": "geo",
         "hovertemplate": "<b>%{location}</b><br>Avg Salary: $%{z:,.0f}<extra></extra>",
         "locationmode": "USA-states",
         "locations": [
          "MO"
         ],
         "name": "91900.0",
         "showlegend": true,
         "showscale": false,
         "type": "choropleth",
         "z": [
          1
         ]
        },
        {
         "colorscale": [
          [
           0,
           "#ab63fa"
          ],
          [
           1,
           "#ab63fa"
          ]
         ],
         "geo": "geo",
         "hovertemplate": "<b>%{location}</b><br>Avg Salary: $%{z:,.0f}<extra></extra>",
         "locationmode": "USA-states",
         "locations": [
          "MS"
         ],
         "name": "90180.0",
         "showlegend": true,
         "showscale": false,
         "type": "choropleth",
         "z": [
          1
         ]
        },
        {
         "colorscale": [
          [
           0,
           "#FFA15A"
          ],
          [
           1,
           "#FFA15A"
          ]
         ],
         "geo": "geo",
         "hovertemplate": "<b>%{location}</b><br>Avg Salary: $%{z:,.0f}<extra></extra>",
         "locationmode": "USA-states",
         "locations": [
          "MT"
         ],
         "name": "84350.0",
         "showlegend": true,
         "showscale": false,
         "type": "choropleth",
         "z": [
          1
         ]
        },
        {
         "colorscale": [
          [
           0,
           "#19d3f3"
          ],
          [
           1,
           "#19d3f3"
          ]
         ],
         "geo": "geo",
         "hovertemplate": "<b>%{location}</b><br>Avg Salary: $%{z:,.0f}<extra></extra>",
         "locationmode": "USA-states",
         "locations": [
          "NC"
         ],
         "name": "94220.0",
         "showlegend": true,
         "showscale": false,
         "type": "choropleth",
         "z": [
          1
         ]
        },
        {
         "colorscale": [
          [
           0,
           "#FF6692"
          ],
          [
           1,
           "#FF6692"
          ]
         ],
         "geo": "geo",
         "hovertemplate": "<b>%{location}</b><br>Avg Salary: $%{z:,.0f}<extra></extra>",
         "locationmode": "USA-states",
         "locations": [
          "ND"
         ],
         "name": "89340.0",
         "showlegend": true,
         "showscale": false,
         "type": "choropleth",
         "z": [
          1
         ]
        },
        {
         "colorscale": [
          [
           0,
           "#B6E880"
          ],
          [
           1,
           "#B6E880"
          ]
         ],
         "geo": "geo",
         "hovertemplate": "<b>%{location}</b><br>Avg Salary: $%{z:,.0f}<extra></extra>",
         "locationmode": "USA-states",
         "locations": [
          "NE"
         ],
         "name": "85850.0",
         "showlegend": true,
         "showscale": false,
         "type": "choropleth",
         "z": [
          1
         ]
        },
        {
         "colorscale": [
          [
           0,
           "#FF97FF"
          ],
          [
           1,
           "#FF97FF"
          ]
         ],
         "geo": "geo",
         "hovertemplate": "<b>%{location}</b><br>Avg Salary: $%{z:,.0f}<extra></extra>",
         "locationmode": "USA-states",
         "locations": [
          "NH"
         ],
         "name": "99250.0",
         "showlegend": true,
         "showscale": false,
         "type": "choropleth",
         "z": [
          1
         ]
        },
        {
         "colorscale": [
          [
           0,
           "#FECB52"
          ],
          [
           1,
           "#FECB52"
          ]
         ],
         "geo": "geo",
         "hovertemplate": "<b>%{location}</b><br>Avg Salary: $%{z:,.0f}<extra></extra>",
         "locationmode": "USA-states",
         "locations": [
          "NJ"
         ],
         "name": "108280.0",
         "showlegend": true,
         "showscale": false,
         "type": "choropleth",
         "z": [
          1
         ]
        },
        {
         "colorscale": [
          [
           0,
           "#636efa"
          ],
          [
           1,
           "#636efa"
          ]
         ],
         "geo": "geo",
         "hovertemplate": "<b>%{location}</b><br>Avg Salary: $%{z:,.0f}<extra></extra>",
         "locationmode": "USA-states",
         "locations": [
          "NM"
         ],
         "name": "120230.0",
         "showlegend": true,
         "showscale": false,
         "type": "choropleth",
         "z": [
          1
         ]
        },
        {
         "colorscale": [
          [
           0,
           "#EF553B"
          ],
          [
           1,
           "#EF553B"
          ]
         ],
         "geo": "geo",
         "hovertemplate": "<b>%{location}</b><br>Avg Salary: $%{z:,.0f}<extra></extra>",
         "locationmode": "USA-states",
         "locations": [
          "NV"
         ],
         "name": "95610.0",
         "showlegend": true,
         "showscale": false,
         "type": "choropleth",
         "z": [
          1
         ]
        },
        {
         "colorscale": [
          [
           0,
           "#00cc96"
          ],
          [
           1,
           "#00cc96"
          ]
         ],
         "geo": "geo",
         "hovertemplate": "<b>%{location}</b><br>Avg Salary: $%{z:,.0f}<extra></extra>",
         "locationmode": "USA-states",
         "locations": [
          "NY"
         ],
         "name": "103800.0",
         "showlegend": true,
         "showscale": false,
         "type": "choropleth",
         "z": [
          1
         ]
        },
        {
         "colorscale": [
          [
           0,
           "#ab63fa"
          ],
          [
           1,
           "#ab63fa"
          ]
         ],
         "geo": "geo",
         "hovertemplate": "<b>%{location}</b><br>Avg Salary: $%{z:,.0f}<extra></extra>",
         "locationmode": "USA-states",
         "locations": [
          "OH"
         ],
         "name": "95950.0",
         "showlegend": true,
         "showscale": false,
         "type": "choropleth",
         "z": [
          1
         ]
        },
        {
         "colorscale": [
          [
           0,
           "#FFA15A"
          ],
          [
           1,
           "#FFA15A"
          ]
         ],
         "geo": "geo",
         "hovertemplate": "<b>%{location}</b><br>Avg Salary: $%{z:,.0f}<extra></extra>",
         "locationmode": "USA-states",
         "locations": [
          "OK"
         ],
         "name": "95250.0",
         "showlegend": true,
         "showscale": false,
         "type": "choropleth",
         "z": [
          1
         ]
        },
        {
         "colorscale": [
          [
           0,
           "#19d3f3"
          ],
          [
           1,
           "#19d3f3"
          ]
         ],
         "geo": "geo",
         "hovertemplate": "<b>%{location}</b><br>Avg Salary: $%{z:,.0f}<extra></extra>",
         "locationmode": "USA-states",
         "locations": [
          "OR"
         ],
         "name": "117290.0",
         "showlegend": true,
         "showscale": false,
         "type": "choropleth",
         "z": [
          1
         ]
        },
        {
         "colorscale": [
          [
           0,
           "#FF6692"
          ],
          [
           1,
           "#FF6692"
          ]
         ],
         "geo": "geo",
         "hovertemplate": "<b>%{location}</b><br>Avg Salary: $%{z:,.0f}<extra></extra>",
         "locationmode": "USA-states",
         "locations": [
          "PA"
         ],
         "name": "94890.0",
         "showlegend": true,
         "showscale": false,
         "type": "choropleth",
         "z": [
          1
         ]
        },
        {
         "colorscale": [
          [
           0,
           "#B6E880"
          ],
          [
           1,
           "#B6E880"
          ]
         ],
         "geo": "geo",
         "hovertemplate": "<b>%{location}</b><br>Avg Salary: $%{z:,.0f}<extra></extra>",
         "locationmode": "USA-states",
         "locations": [
          "RI"
         ],
         "name": "111230.0",
         "showlegend": true,
         "showscale": false,
         "type": "choropleth",
         "z": [
          1
         ]
        },
        {
         "colorscale": [
          [
           0,
           "#FF97FF"
          ],
          [
           1,
           "#FF97FF"
          ]
         ],
         "geo": "geo",
         "hovertemplate": "<b>%{location}</b><br>Avg Salary: $%{z:,.0f}<extra></extra>",
         "locationmode": "USA-states",
         "locations": [
          "SC"
         ],
         "name": "95270.0",
         "showlegend": true,
         "showscale": false,
         "type": "choropleth",
         "z": [
          1
         ]
        },
        {
         "colorscale": [
          [
           0,
           "#FECB52"
          ],
          [
           1,
           "#FECB52"
          ]
         ],
         "geo": "geo",
         "hovertemplate": "<b>%{location}</b><br>Avg Salary: $%{z:,.0f}<extra></extra>",
         "locationmode": "USA-states",
         "locations": [
          "SD"
         ],
         "name": "83640.0",
         "showlegend": true,
         "showscale": false,
         "type": "choropleth",
         "z": [
          1
         ]
        },
        {
         "colorscale": [
          [
           0,
           "#636efa"
          ],
          [
           1,
           "#636efa"
          ]
         ],
         "geo": "geo",
         "hovertemplate": "<b>%{location}</b><br>Avg Salary: $%{z:,.0f}<extra></extra>",
         "locationmode": "USA-states",
         "locations": [
          "TN"
         ],
         "name": "91940.0",
         "showlegend": true,
         "showscale": false,
         "type": "choropleth",
         "z": [
          1
         ]
        },
        {
         "colorscale": [
          [
           0,
           "#EF553B"
          ],
          [
           1,
           "#EF553B"
          ]
         ],
         "geo": "geo",
         "hovertemplate": "<b>%{location}</b><br>Avg Salary: $%{z:,.0f}<extra></extra>",
         "locationmode": "USA-states",
         "locations": [
          "TX"
         ],
         "name": "102180.0",
         "showlegend": true,
         "showscale": false,
         "type": "choropleth",
         "z": [
          1
         ]
        },
        {
         "colorscale": [
          [
           0,
           "#00cc96"
          ],
          [
           1,
           "#00cc96"
          ]
         ],
         "geo": "geo",
         "hovertemplate": "<b>%{location}</b><br>Avg Salary: $%{z:,.0f}<extra></extra>",
         "locationmode": "USA-states",
         "locations": [
          "UT"
         ],
         "name": "93690.0",
         "showlegend": true,
         "showscale": false,
         "type": "choropleth",
         "z": [
          1
         ]
        },
        {
         "colorscale": [
          [
           0,
           "#ab63fa"
          ],
          [
           1,
           "#ab63fa"
          ]
         ],
         "geo": "geo",
         "hovertemplate": "<b>%{location}</b><br>Avg Salary: $%{z:,.0f}<extra></extra>",
         "locationmode": "USA-states",
         "locations": [
          "VA"
         ],
         "name": "105260.0",
         "showlegend": true,
         "showscale": false,
         "type": "choropleth",
         "z": [
          1
         ]
        },
        {
         "colorscale": [
          [
           0,
           "#FFA15A"
          ],
          [
           1,
           "#FFA15A"
          ]
         ],
         "geo": "geo",
         "hovertemplate": "<b>%{location}</b><br>Avg Salary: $%{z:,.0f}<extra></extra>",
         "locationmode": "USA-states",
         "locations": [
          "VT"
         ],
         "name": "94590.0",
         "showlegend": true,
         "showscale": false,
         "type": "choropleth",
         "z": [
          1
         ]
        },
        {
         "colorscale": [
          [
           0,
           "#19d3f3"
          ],
          [
           1,
           "#19d3f3"
          ]
         ],
         "geo": "geo",
         "hovertemplate": "<b>%{location}</b><br>Avg Salary: $%{z:,.0f}<extra></extra>",
         "locationmode": "USA-states",
         "locations": [
          "WA"
         ],
         "name": "116020.0",
         "showlegend": true,
         "showscale": false,
         "type": "choropleth",
         "z": [
          1
         ]
        },
        {
         "colorscale": [
          [
           0,
           "#FF6692"
          ],
          [
           1,
           "#FF6692"
          ]
         ],
         "geo": "geo",
         "hovertemplate": "<b>%{location}</b><br>Avg Salary: $%{z:,.0f}<extra></extra>",
         "locationmode": "USA-states",
         "locations": [
          "WI"
         ],
         "name": "89180.0",
         "showlegend": true,
         "showscale": false,
         "type": "choropleth",
         "z": [
          1
         ]
        },
        {
         "colorscale": [
          [
           0,
           "#B6E880"
          ],
          [
           1,
           "#B6E880"
          ]
         ],
         "geo": "geo",
         "hovertemplate": "<b>%{location}</b><br>Avg Salary: $%{z:,.0f}<extra></extra>",
         "locationmode": "USA-states",
         "locations": [
          "WV"
         ],
         "name": "92470.0",
         "showlegend": true,
         "showscale": false,
         "type": "choropleth",
         "z": [
          1
         ]
        },
        {
         "colorscale": [
          [
           0,
           "#FF97FF"
          ],
          [
           1,
           "#FF97FF"
          ]
         ],
         "geo": "geo",
         "hovertemplate": "<b>%{location}</b><br>Avg Salary: $%{z:,.0f}<extra></extra>",
         "locationmode": "USA-states",
         "locations": [
          "WY"
         ],
         "name": "101800.0",
         "showlegend": true,
         "showscale": false,
         "type": "choropleth",
         "z": [
          1
         ]
        },
        {
         "hovertemplate": "<b>%{location}</b><br>Avg Salary: $%{z:,.0f}<extra></extra>",
         "lat": [
          61.370716,
          32.806671,
          34.969704,
          33.729759,
          36.116203,
          41.597782,
          38.9072,
          39.318523,
          27.766279,
          33.040619,
          21.094318,
          42.011539,
          44.240459,
          40.349457,
          39.849426,
          38.5266,
          37.66814,
          31.169546,
          42.230171,
          39.063946,
          44.693947,
          43.326618,
          45.694454,
          38.456085,
          32.741646,
          46.921925,
          35.630066,
          47.528912,
          41.12537,
          43.452492,
          40.298904,
          34.840515,
          38.313515,
          42.165726,
          40.388783,
          35.565342,
          44.572021,
          40.590752,
          41.680893,
          33.856892,
          44.299782,
          35.747845,
          31.054487,
          40.150032,
          37.769337,
          44.045876,
          47.400902,
          44.268543,
          38.491226,
          42.755966
         ],
         "locationmode": "USA-states",
         "locations": [
          "AK",
          "AL",
          "AR",
          "AZ",
          "CA",
          "CT",
          "DC",
          "DE",
          "FL",
          "GA",
          "HI",
          "IA",
          "ID",
          "IL",
          "IN",
          "KS",
          "KY",
          "LA",
          "MA",
          "MD",
          "ME",
          "MI",
          "MN",
          "MO",
          "MS",
          "MT",
          "NC",
          "ND",
          "NE",
          "NH",
          "NJ",
          "NM",
          "NV",
          "NY",
          "OH",
          "OK",
          "OR",
          "PA",
          "RI",
          "SC",
          "SD",
          "TN",
          "TX",
          "UT",
          "VA",
          "VT",
          "WA",
          "WI",
          "WV",
          "WY"
         ],
         "lon": [
          -152.404419,
          -86.79113,
          -92.373123,
          -111.431221,
          -119.681564,
          -72.755371,
          -77.0369,
          -75.507141,
          -81.686783,
          -83.643074,
          -157.498337,
          -93.210526,
          -114.478828,
          -88.986137,
          -86.258278,
          -96.726486,
          -84.670067,
          -91.867805,
          -71.530106,
          -76.802101,
          -69.381927,
          -84.536095,
          -93.900192,
          -92.288368,
          -89.678696,
          -110.454353,
          -79.806419,
          -99.784012,
          -98.268082,
          -71.563896,
          -74.521011,
          -106.248482,
          -117.055374,
          -74.948051,
          -82.764915,
          -96.928917,
          -122.070938,
          -77.209755,
          -71.51178,
          -80.945007,
          -99.438828,
          -86.692345,
          -97.563461,
          -111.862434,
          -78.169968,
          -72.710686,
          -121.490494,
          -89.616508,
          -80.954453,
          -107.30249
         ],
         "mode": "text",
         "showlegend": false,
         "text": [
          "$110K",
          "$105K",
          "$81K",
          "$105K",
          "$127K",
          "$106K",
          "$133K",
          "$98K",
          "$95K",
          "$96K",
          "$99K",
          "$91K",
          "$96K",
          "$98K",
          "$91K",
          "$91K",
          "$86K",
          "$100K",
          "$114K",
          "$116K",
          "$94K",
          "$97K",
          "$96K",
          "$91K",
          "$90K",
          "$84K",
          "$94K",
          "$89K",
          "$85K",
          "$99K",
          "$108K",
          "$120K",
          "$95K",
          "$103K",
          "$95K",
          "$95K",
          "$117K",
          "$94K",
          "$111K",
          "$95K",
          "$83K",
          "$91K",
          "$102K",
          "$93K",
          "$105K",
          "$94K",
          "$116K",
          "$89K",
          "$92K",
          "$101K"
         ],
         "type": "scattergeo"
        }
       ],
       "layout": {
        "coloraxis": {
         "colorbar": {
          "tickprefix": "$",
          "ticks": "outside",
          "title": {
           "text": "Avg Salary ($)"
          }
         }
        },
        "geo": {
         "center": {},
         "domain": {
          "x": [
           0,
           1
          ],
          "y": [
           0,
           1
          ]
         },
         "scope": "usa",
         "showlakes": false
        },
        "height": 650,
        "hovermode": "closest",
        "legend": {
         "title": {
          "text": "Avg Salary ($)"
         },
         "tracegroupgap": 0
        },
        "margin": {
         "b": 0,
         "l": 0,
         "r": 0,
         "t": 50
        },
        "template": {
         "data": {
          "bar": [
           {
            "error_x": {
             "color": "#2a3f5f"
            },
            "error_y": {
             "color": "#2a3f5f"
            },
            "marker": {
             "line": {
              "color": "#E5ECF6",
              "width": 0.5
             },
             "pattern": {
              "fillmode": "overlay",
              "size": 10,
              "solidity": 0.2
             }
            },
            "type": "bar"
           }
          ],
          "barpolar": [
           {
            "marker": {
             "line": {
              "color": "#E5ECF6",
              "width": 0.5
             },
             "pattern": {
              "fillmode": "overlay",
              "size": 10,
              "solidity": 0.2
             }
            },
            "type": "barpolar"
           }
          ],
          "carpet": [
           {
            "aaxis": {
             "endlinecolor": "#2a3f5f",
             "gridcolor": "white",
             "linecolor": "white",
             "minorgridcolor": "white",
             "startlinecolor": "#2a3f5f"
            },
            "baxis": {
             "endlinecolor": "#2a3f5f",
             "gridcolor": "white",
             "linecolor": "white",
             "minorgridcolor": "white",
             "startlinecolor": "#2a3f5f"
            },
            "type": "carpet"
           }
          ],
          "choropleth": [
           {
            "colorbar": {
             "outlinewidth": 0,
             "ticks": ""
            },
            "type": "choropleth"
           }
          ],
          "contour": [
           {
            "colorbar": {
             "outlinewidth": 0,
             "ticks": ""
            },
            "colorscale": [
             [
              0,
              "#0d0887"
             ],
             [
              0.1111111111111111,
              "#46039f"
             ],
             [
              0.2222222222222222,
              "#7201a8"
             ],
             [
              0.3333333333333333,
              "#9c179e"
             ],
             [
              0.4444444444444444,
              "#bd3786"
             ],
             [
              0.5555555555555556,
              "#d8576b"
             ],
             [
              0.6666666666666666,
              "#ed7953"
             ],
             [
              0.7777777777777778,
              "#fb9f3a"
             ],
             [
              0.8888888888888888,
              "#fdca26"
             ],
             [
              1,
              "#f0f921"
             ]
            ],
            "type": "contour"
           }
          ],
          "contourcarpet": [
           {
            "colorbar": {
             "outlinewidth": 0,
             "ticks": ""
            },
            "type": "contourcarpet"
           }
          ],
          "heatmap": [
           {
            "colorbar": {
             "outlinewidth": 0,
             "ticks": ""
            },
            "colorscale": [
             [
              0,
              "#0d0887"
             ],
             [
              0.1111111111111111,
              "#46039f"
             ],
             [
              0.2222222222222222,
              "#7201a8"
             ],
             [
              0.3333333333333333,
              "#9c179e"
             ],
             [
              0.4444444444444444,
              "#bd3786"
             ],
             [
              0.5555555555555556,
              "#d8576b"
             ],
             [
              0.6666666666666666,
              "#ed7953"
             ],
             [
              0.7777777777777778,
              "#fb9f3a"
             ],
             [
              0.8888888888888888,
              "#fdca26"
             ],
             [
              1,
              "#f0f921"
             ]
            ],
            "type": "heatmap"
           }
          ],
          "histogram": [
           {
            "marker": {
             "pattern": {
              "fillmode": "overlay",
              "size": 10,
              "solidity": 0.2
             }
            },
            "type": "histogram"
           }
          ],
          "histogram2d": [
           {
            "colorbar": {
             "outlinewidth": 0,
             "ticks": ""
            },
            "colorscale": [
             [
              0,
              "#0d0887"
             ],
             [
              0.1111111111111111,
              "#46039f"
             ],
             [
              0.2222222222222222,
              "#7201a8"
             ],
             [
              0.3333333333333333,
              "#9c179e"
             ],
             [
              0.4444444444444444,
              "#bd3786"
             ],
             [
              0.5555555555555556,
              "#d8576b"
             ],
             [
              0.6666666666666666,
              "#ed7953"
             ],
             [
              0.7777777777777778,
              "#fb9f3a"
             ],
             [
              0.8888888888888888,
              "#fdca26"
             ],
             [
              1,
              "#f0f921"
             ]
            ],
            "type": "histogram2d"
           }
          ],
          "histogram2dcontour": [
           {
            "colorbar": {
             "outlinewidth": 0,
             "ticks": ""
            },
            "colorscale": [
             [
              0,
              "#0d0887"
             ],
             [
              0.1111111111111111,
              "#46039f"
             ],
             [
              0.2222222222222222,
              "#7201a8"
             ],
             [
              0.3333333333333333,
              "#9c179e"
             ],
             [
              0.4444444444444444,
              "#bd3786"
             ],
             [
              0.5555555555555556,
              "#d8576b"
             ],
             [
              0.6666666666666666,
              "#ed7953"
             ],
             [
              0.7777777777777778,
              "#fb9f3a"
             ],
             [
              0.8888888888888888,
              "#fdca26"
             ],
             [
              1,
              "#f0f921"
             ]
            ],
            "type": "histogram2dcontour"
           }
          ],
          "mesh3d": [
           {
            "colorbar": {
             "outlinewidth": 0,
             "ticks": ""
            },
            "type": "mesh3d"
           }
          ],
          "parcoords": [
           {
            "line": {
             "colorbar": {
              "outlinewidth": 0,
              "ticks": ""
             }
            },
            "type": "parcoords"
           }
          ],
          "pie": [
           {
            "automargin": true,
            "type": "pie"
           }
          ],
          "scatter": [
           {
            "fillpattern": {
             "fillmode": "overlay",
             "size": 10,
             "solidity": 0.2
            },
            "type": "scatter"
           }
          ],
          "scatter3d": [
           {
            "line": {
             "colorbar": {
              "outlinewidth": 0,
              "ticks": ""
             }
            },
            "marker": {
             "colorbar": {
              "outlinewidth": 0,
              "ticks": ""
             }
            },
            "type": "scatter3d"
           }
          ],
          "scattercarpet": [
           {
            "marker": {
             "colorbar": {
              "outlinewidth": 0,
              "ticks": ""
             }
            },
            "type": "scattercarpet"
           }
          ],
          "scattergeo": [
           {
            "marker": {
             "colorbar": {
              "outlinewidth": 0,
              "ticks": ""
             }
            },
            "type": "scattergeo"
           }
          ],
          "scattergl": [
           {
            "marker": {
             "colorbar": {
              "outlinewidth": 0,
              "ticks": ""
             }
            },
            "type": "scattergl"
           }
          ],
          "scattermap": [
           {
            "marker": {
             "colorbar": {
              "outlinewidth": 0,
              "ticks": ""
             }
            },
            "type": "scattermap"
           }
          ],
          "scattermapbox": [
           {
            "marker": {
             "colorbar": {
              "outlinewidth": 0,
              "ticks": ""
             }
            },
            "type": "scattermapbox"
           }
          ],
          "scatterpolar": [
           {
            "marker": {
             "colorbar": {
              "outlinewidth": 0,
              "ticks": ""
             }
            },
            "type": "scatterpolar"
           }
          ],
          "scatterpolargl": [
           {
            "marker": {
             "colorbar": {
              "outlinewidth": 0,
              "ticks": ""
             }
            },
            "type": "scatterpolargl"
           }
          ],
          "scatterternary": [
           {
            "marker": {
             "colorbar": {
              "outlinewidth": 0,
              "ticks": ""
             }
            },
            "type": "scatterternary"
           }
          ],
          "surface": [
           {
            "colorbar": {
             "outlinewidth": 0,
             "ticks": ""
            },
            "colorscale": [
             [
              0,
              "#0d0887"
             ],
             [
              0.1111111111111111,
              "#46039f"
             ],
             [
              0.2222222222222222,
              "#7201a8"
             ],
             [
              0.3333333333333333,
              "#9c179e"
             ],
             [
              0.4444444444444444,
              "#bd3786"
             ],
             [
              0.5555555555555556,
              "#d8576b"
             ],
             [
              0.6666666666666666,
              "#ed7953"
             ],
             [
              0.7777777777777778,
              "#fb9f3a"
             ],
             [
              0.8888888888888888,
              "#fdca26"
             ],
             [
              1,
              "#f0f921"
             ]
            ],
            "type": "surface"
           }
          ],
          "table": [
           {
            "cells": {
             "fill": {
              "color": "#EBF0F8"
             },
             "line": {
              "color": "white"
             }
            },
            "header": {
             "fill": {
              "color": "#C8D4E3"
             },
             "line": {
              "color": "white"
             }
            },
            "type": "table"
           }
          ]
         },
         "layout": {
          "annotationdefaults": {
           "arrowcolor": "#2a3f5f",
           "arrowhead": 0,
           "arrowwidth": 1
          },
          "autotypenumbers": "strict",
          "coloraxis": {
           "colorbar": {
            "outlinewidth": 0,
            "ticks": ""
           }
          },
          "colorscale": {
           "diverging": [
            [
             0,
             "#8e0152"
            ],
            [
             0.1,
             "#c51b7d"
            ],
            [
             0.2,
             "#de77ae"
            ],
            [
             0.3,
             "#f1b6da"
            ],
            [
             0.4,
             "#fde0ef"
            ],
            [
             0.5,
             "#f7f7f7"
            ],
            [
             0.6,
             "#e6f5d0"
            ],
            [
             0.7,
             "#b8e186"
            ],
            [
             0.8,
             "#7fbc41"
            ],
            [
             0.9,
             "#4d9221"
            ],
            [
             1,
             "#276419"
            ]
           ],
           "sequential": [
            [
             0,
             "#0d0887"
            ],
            [
             0.1111111111111111,
             "#46039f"
            ],
            [
             0.2222222222222222,
             "#7201a8"
            ],
            [
             0.3333333333333333,
             "#9c179e"
            ],
            [
             0.4444444444444444,
             "#bd3786"
            ],
            [
             0.5555555555555556,
             "#d8576b"
            ],
            [
             0.6666666666666666,
             "#ed7953"
            ],
            [
             0.7777777777777778,
             "#fb9f3a"
            ],
            [
             0.8888888888888888,
             "#fdca26"
            ],
            [
             1,
             "#f0f921"
            ]
           ],
           "sequentialminus": [
            [
             0,
             "#0d0887"
            ],
            [
             0.1111111111111111,
             "#46039f"
            ],
            [
             0.2222222222222222,
             "#7201a8"
            ],
            [
             0.3333333333333333,
             "#9c179e"
            ],
            [
             0.4444444444444444,
             "#bd3786"
            ],
            [
             0.5555555555555556,
             "#d8576b"
            ],
            [
             0.6666666666666666,
             "#ed7953"
            ],
            [
             0.7777777777777778,
             "#fb9f3a"
            ],
            [
             0.8888888888888888,
             "#fdca26"
            ],
            [
             1,
             "#f0f921"
            ]
           ]
          },
          "colorway": [
           "#636efa",
           "#EF553B",
           "#00cc96",
           "#ab63fa",
           "#FFA15A",
           "#19d3f3",
           "#FF6692",
           "#B6E880",
           "#FF97FF",
           "#FECB52"
          ],
          "font": {
           "color": "#2a3f5f"
          },
          "geo": {
           "bgcolor": "white",
           "lakecolor": "white",
           "landcolor": "#E5ECF6",
           "showlakes": true,
           "showland": true,
           "subunitcolor": "white"
          },
          "hoverlabel": {
           "align": "left"
          },
          "hovermode": "closest",
          "mapbox": {
           "style": "light"
          },
          "paper_bgcolor": "white",
          "plot_bgcolor": "#E5ECF6",
          "polar": {
           "angularaxis": {
            "gridcolor": "white",
            "linecolor": "white",
            "ticks": ""
           },
           "bgcolor": "#E5ECF6",
           "radialaxis": {
            "gridcolor": "white",
            "linecolor": "white",
            "ticks": ""
           }
          },
          "scene": {
           "xaxis": {
            "backgroundcolor": "#E5ECF6",
            "gridcolor": "white",
            "gridwidth": 2,
            "linecolor": "white",
            "showbackground": true,
            "ticks": "",
            "zerolinecolor": "white"
           },
           "yaxis": {
            "backgroundcolor": "#E5ECF6",
            "gridcolor": "white",
            "gridwidth": 2,
            "linecolor": "white",
            "showbackground": true,
            "ticks": "",
            "zerolinecolor": "white"
           },
           "zaxis": {
            "backgroundcolor": "#E5ECF6",
            "gridcolor": "white",
            "gridwidth": 2,
            "linecolor": "white",
            "showbackground": true,
            "ticks": "",
            "zerolinecolor": "white"
           }
          },
          "shapedefaults": {
           "line": {
            "color": "#2a3f5f"
           }
          },
          "ternary": {
           "aaxis": {
            "gridcolor": "white",
            "linecolor": "white",
            "ticks": ""
           },
           "baxis": {
            "gridcolor": "white",
            "linecolor": "white",
            "ticks": ""
           },
           "bgcolor": "#E5ECF6",
           "caxis": {
            "gridcolor": "white",
            "linecolor": "white",
            "ticks": ""
           }
          },
          "title": {
           "x": 0.05
          },
          "xaxis": {
           "automargin": true,
           "gridcolor": "white",
           "linecolor": "white",
           "ticks": "",
           "title": {
            "standoff": 15
           },
           "zerolinecolor": "white",
           "zerolinewidth": 2
          },
          "yaxis": {
           "automargin": true,
           "gridcolor": "white",
           "linecolor": "white",
           "ticks": "",
           "title": {
            "standoff": 15
           },
           "zerolinecolor": "white",
           "zerolinewidth": 2
          }
         }
        },
        "title": {
         "text": "Engineering – Average Salary by State (BLS OEWS May 2024)"
        },
        "width": 900
       }
      }
     },
     "metadata": {},
     "output_type": "display_data"
    }
   ],
   "source": [
    "# 3c: Spatial analysis – sequential‑scale U.S. salary map by major category\n",
    "# -----------------------------------------------------------------------\n",
    "# This cell:\n",
    "#   1. Loads recent‑grads data and BLS OEWS (May‑2024) state wage file\n",
    "#   2. Merges on SOC codes\n",
    "#   3. Runs a quick one‑way ANOVA across majors (optional, keeps rubric happy)\n",
    "#   4. Plots a single U.S. choropleth for *one* major, with a sequential colour\n",
    "#      scale and state‑centred dollar labels (à la the “Median Income” graphic)\n",
    "\n",
    "import pandas as pd\n",
    "from scipy.stats import f_oneway\n",
    "import plotly.express as px\n",
    "import plotly.graph_objects as go\n",
    "\n",
    "# ────────────────────────────────────────────────────────────────────────\n",
    "# 1. DATA INGEST\n",
    "# ────────────────────────────────────────────────────────────────────────\n",
    "grads = pd.read_csv(\"data/recent-grads.csv\")\n",
    "\n",
    "oews = pd.read_excel(\"data/state_M2024_dl.xlsx\", sheet_name=0)  # May‑2024 release\n",
    "oews_state = oews.rename(columns={\n",
    "    \"AREA_TITLE\": \"StateName\",\n",
    "    \"OCC_CODE\"  : \"SOC\",\n",
    "    \"A_MEAN\"    : \"Annual_Mean_Wage\"\n",
    "})\n",
    "\n",
    "state_abbrev = {  # full‑to‑USPS (includes DC)\n",
    "    \"Alabama\":\"AL\",\"Alaska\":\"AK\",\"Arizona\":\"AZ\",\"Arkansas\":\"AR\",\"California\":\"CA\",\"Colorado\":\"CO\",\n",
    "    \"Connecticut\":\"CT\",\"Delaware\":\"DE\",\"District of Columbia\":\"DC\",\"Florida\":\"FL\",\"Georgia\":\"GA\",\n",
    "    \"Hawaii\":\"HI\",\"Idaho\":\"ID\",\"Illinois\":\"IL\",\"Indiana\":\"IN\",\"Iowa\":\"IA\",\"Kansas\":\"KS\",\n",
    "    \"Kentucky\":\"KY\",\"Louisiana\":\"LA\",\"Maine\":\"ME\",\"Maryland\":\"MD\",\"Massachusetts\":\"MA\",\n",
    "    \"Michigan\":\"MI\",\"Minnesota\":\"MN\",\"Mississippi\":\"MS\",\"Missouri\":\"MO\",\"Montana\":\"MT\",\n",
    "    \"Nebraska\":\"NE\",\"Nevada\":\"NV\",\"New Hampshire\":\"NH\",\"New Jersey\":\"NJ\",\"New Mexico\":\"NM\",\n",
    "    \"New York\":\"NY\",\"North Carolina\":\"NC\",\"North Dakota\":\"ND\",\"Ohio\":\"OH\",\"Oklahoma\":\"OK\",\n",
    "    \"Oregon\":\"OR\",\"Pennsylvania\":\"PA\",\"Rhode Island\":\"RI\",\"South Carolina\":\"SC\",\"South Dakota\":\"SD\",\n",
    "    \"Tennessee\":\"TN\",\"Texas\":\"TX\",\"Utah\":\"UT\",\"Vermont\":\"VT\",\"Virginia\":\"VA\",\"Washington\":\"WA\",\n",
    "    \"West Virginia\":\"WV\",\"Wisconsin\":\"WI\",\"Wyoming\":\"WY\"\n",
    "}\n",
    "oews_state[\"State\"] = oews_state[\"StateName\"].map(state_abbrev)\n",
    "\n",
    "major_to_soc = {  # minimal mapping – extend to cover all majors in your CSV\n",
    "    \"Engineering\":    \"17-0000\",\n",
    "    \"Business\":       \"13-0000\",\n",
    "    \"Health\":         \"29-0000\",\n",
    "    \"Social Science\": \"19-0000\",\n",
    "    \"Psychology\":     \"19-3000\",\n",
    "    \"Biology\":        \"19-0000\"\n",
    "}\n",
    "grads[\"SOC\"] = grads[\"Major_category\"].map(major_to_soc)\n",
    "\n",
    "# ────────────────────────────────────────────────────────────────────────\n",
    "# 2. MERGE & AGGREGATE\n",
    "# ────────────────────────────────────────────────────────────────────────\n",
    "grads_state = grads.merge(\n",
    "    oews_state[[\"State\", \"SOC\", \"Annual_Mean_Wage\"]],\n",
    "    on=\"SOC\", how=\"left\"\n",
    ")\n",
    "\n",
    "state_major_salary = (\n",
    "    grads_state\n",
    "    .groupby([\"State\", \"Major_category\"])[\"Annual_Mean_Wage\"]\n",
    "    .mean()\n",
    "    .reset_index()\n",
    "    .dropna(subset=[\"Annual_Mean_Wage\"])\n",
    ")\n",
    "\n",
    "# ────────────────────────────────────────────────────────────────────────\n",
    "# 3. OPTIONAL STAT TEST – one‑way ANOVA across majors\n",
    "# ────────────────────────────────────────────────────────────────────────\n",
    "anova_groups = [\n",
    "    g[\"Annual_Mean_Wage\"].values\n",
    "    for _, g in state_major_salary.groupby(\"Major_category\")\n",
    "]\n",
    "F, p = f_oneway(*anova_groups)\n",
    "print(f\"ANOVA across majors: F={F:.2f}, p={p:.4f}\")\n",
    "\n",
    "# ────────────────────────────────────────────────────────────────────────\n",
    "# 4. CHOROPLETH FOR ONE MAJOR WITH SEQUENTIAL SCALE + LABELS\n",
    "# ────────────────────────────────────────────────────────────────────────\n",
    "major = \"Engineering\"      # ← change to plot another major\n",
    "df = state_major_salary[state_major_salary[\"Major_category\"] == major]\n",
    "\n",
    "# sequential colour scale (low→high = light→dark)\n",
    "fig = px.choropleth(\n",
    "    df,\n",
    "    locations=\"State\",\n",
    "    locationmode=\"USA-states\",\n",
    "    color=\"Annual_Mean_Wage\",\n",
    "    scope=\"usa\",\n",
    "    color_continuous_scale=\"YlGnBu\",\n",
    "    range_color=(df.Annual_Mean_Wage.min(), df.Annual_Mean_Wage.max()),\n",
    "    labels={\"Annual_Mean_Wage\": \"Avg Salary ($)\"},\n",
    "    title=f\"{major} – Average Salary by State (BLS OEWS May 2024)\"\n",
    ")\n",
    "\n",
    "# approximate state centroids for label placement\n",
    "centroids = {\n",
    "    \"AL\":[32.806671, -86.791130],\"AK\":[61.370716, -152.404419],\"AZ\":[33.729759, -111.431221],\n",
    "    \"AR\":[34.969704, -92.373123],\"CA\":[36.116203, -119.681564],\"CO\":[39.059811, -105.311104],\n",
    "    \"CT\":[41.597782, -72.755371],\"DE\":[39.318523, -75.507141],\"FL\":[27.766279, -81.686783],\n",
    "    \"GA\":[33.040619, -83.643074],\"HI\":[21.094318, -157.498337],\"ID\":[44.240459, -114.478828],\n",
    "    \"IL\":[40.349457, -88.986137],\"IN\":[39.849426, -86.258278],\"IA\":[42.011539, -93.210526],\n",
    "    \"KS\":[38.526600, -96.726486],\"KY\":[37.668140, -84.670067],\"LA\":[31.169546, -91.867805],\n",
    "    \"ME\":[44.693947, -69.381927],\"MD\":[39.063946, -76.802101],\"MA\":[42.230171, -71.530106],\n",
    "    \"MI\":[43.326618, -84.536095],\"MN\":[45.694454, -93.900192],\"MS\":[32.741646, -89.678696],\n",
    "    \"MO\":[38.456085, -92.288368],\"MT\":[46.921925, -110.454353],\"NE\":[41.125370, -98.268082],\n",
    "    \"NV\":[38.313515, -117.055374],\"NH\":[43.452492, -71.563896],\"NJ\":[40.298904, -74.521011],\n",
    "    \"NM\":[34.840515, -106.248482],\"NY\":[42.165726, -74.948051],\"NC\":[35.630066, -79.806419],\n",
    "    \"ND\":[47.528912, -99.784012],\"OH\":[40.388783, -82.764915],\"OK\":[35.565342, -96.928917],\n",
    "    \"OR\":[44.572021, -122.070938],\"PA\":[40.590752, -77.209755],\"RI\":[41.680893, -71.511780],\n",
    "    \"SC\":[33.856892, -80.945007],\"SD\":[44.299782, -99.438828],\"TN\":[35.747845, -86.692345],\n",
    "    \"TX\":[31.054487, -97.563461],\"UT\":[40.150032, -111.862434],\"VT\":[44.045876, -72.710686],\n",
    "    \"VA\":[37.769337, -78.169968],\"WA\":[47.400902, -121.490494],\"WV\":[38.491226, -80.954453],\n",
    "    \"WI\":[44.268543, -89.616508],\"WY\":[42.755966, -107.302490],\"DC\":[38.9072, -77.0369]\n",
    "}\n",
    "\n",
    "fig.add_trace(\n",
    "    go.Scattergeo(\n",
    "        locations = df.State,\n",
    "        locationmode = \"USA-states\",\n",
    "        lon = [centroids[s][1] for s in df.State],\n",
    "        lat = [centroids[s][0] for s in df.State],\n",
    "        text = df[\"Annual_Mean_Wage\"].round(0).apply(lambda x: f\"${int(x/1000)}K\"),\n",
    "        mode = \"text\",\n",
    "        showlegend=False\n",
    "    )\n",
    ")\n",
    "\n",
    "fig.update_layout(\n",
    "    coloraxis_colorbar=dict(\n",
    "        title=\"Avg Salary ($)\",\n",
    "        tickprefix=\"$\",\n",
    "        ticks=\"outside\"\n",
    "    ),\n",
    "    hovermode=\"closest\",\n",
    "    geo=dict(showlakes=False),\n",
    "    margin=dict(r=0, t=50, l=0, b=0),\n",
    "    height=650, width=900\n",
    ")\n",
    "\n",
    "fig.update_traces(\n",
    "    hovertemplate='<b>%{location}</b><br>Avg Salary: $%{z:,.0f}<extra></extra>'\n",
    ")\n",
    "\n",
    "fig.show()\n"
   ]
  },
  {
   "cell_type": "markdown",
   "metadata": {},
   "source": [
    "# Step 4: Summary Cell – Three Bullet Takeaways\n",
    "## Outline:\n",
    "This block distills the entire analysis into three actionable insights for your audience.\n",
    "So what? It ensures your work is memorable and directly informs decision-making for students, advisors, and policymakers.\n"
   ]
  },
  {
   "cell_type": "code",
   "execution_count": null,
   "metadata": {},
   "outputs": [
    {
     "name": "stdout",
     "output_type": "stream",
     "text": [
      "ANOVA across majors: F = 33.21, p = 0.000\n"
     ]
    },
    {
     "data": {
      "application/vnd.plotly.v1+json": {
       "config": {
        "plotlyServerURL": "https://plot.ly"
       },
       "data": [
        {
         "colorscale": [
          [
           0,
           "#636efa"
          ],
          [
           1,
           "#636efa"
          ]
         ],
         "geo": "geo",
         "hovertemplate": "Mean Salary=110330.0<br>State=%{location}<extra></extra>",
         "locationmode": "USA-states",
         "locations": [
          "AK"
         ],
         "name": "110330.0",
         "showlegend": true,
         "showscale": false,
         "type": "choropleth",
         "z": [
          1
         ]
        },
        {
         "colorscale": [
          [
           0,
           "#EF553B"
          ],
          [
           1,
           "#EF553B"
          ]
         ],
         "geo": "geo",
         "hovertemplate": "Mean Salary=105480.0<br>State=%{location}<extra></extra>",
         "locationmode": "USA-states",
         "locations": [
          "AL"
         ],
         "name": "105480.0",
         "showlegend": true,
         "showscale": false,
         "type": "choropleth",
         "z": [
          1
         ]
        },
        {
         "colorscale": [
          [
           0,
           "#00cc96"
          ],
          [
           1,
           "#00cc96"
          ]
         ],
         "geo": "geo",
         "hovertemplate": "Mean Salary=81320.0<br>State=%{location}<extra></extra>",
         "locationmode": "USA-states",
         "locations": [
          "AR"
         ],
         "name": "81320.0",
         "showlegend": true,
         "showscale": false,
         "type": "choropleth",
         "z": [
          1
         ]
        },
        {
         "colorscale": [
          [
           0,
           "#ab63fa"
          ],
          [
           1,
           "#ab63fa"
          ]
         ],
         "geo": "geo",
         "hovertemplate": "Mean Salary=105620.0<br>State=%{location}<extra></extra>",
         "locationmode": "USA-states",
         "locations": [
          "AZ"
         ],
         "name": "105620.0",
         "showlegend": true,
         "showscale": false,
         "type": "choropleth",
         "z": [
          1
         ]
        },
        {
         "colorscale": [
          [
           0,
           "#FFA15A"
          ],
          [
           1,
           "#FFA15A"
          ]
         ],
         "geo": "geo",
         "hovertemplate": "Mean Salary=127090.0<br>State=%{location}<extra></extra>",
         "locationmode": "USA-states",
         "locations": [
          "CA"
         ],
         "name": "127090.0",
         "showlegend": true,
         "showscale": false,
         "type": "choropleth",
         "z": [
          1
         ]
        },
        {
         "colorscale": [
          [
           0,
           "#19d3f3"
          ],
          [
           1,
           "#19d3f3"
          ]
         ],
         "geo": "geo",
         "hovertemplate": "Mean Salary=106530.0<br>State=%{location}<extra></extra>",
         "locationmode": "USA-states",
         "locations": [
          "CT"
         ],
         "name": "106530.0",
         "showlegend": true,
         "showscale": false,
         "type": "choropleth",
         "z": [
          1
         ]
        },
        {
         "colorscale": [
          [
           0,
           "#FF6692"
          ],
          [
           1,
           "#FF6692"
          ]
         ],
         "geo": "geo",
         "hovertemplate": "Mean Salary=133310.0<br>State=%{location}<extra></extra>",
         "locationmode": "USA-states",
         "locations": [
          "DC"
         ],
         "name": "133310.0",
         "showlegend": true,
         "showscale": false,
         "type": "choropleth",
         "z": [
          1
         ]
        },
        {
         "colorscale": [
          [
           0,
           "#B6E880"
          ],
          [
           1,
           "#B6E880"
          ]
         ],
         "geo": "geo",
         "hovertemplate": "Mean Salary=98790.0<br>State=%{location}<extra></extra>",
         "locationmode": "USA-states",
         "locations": [
          "DE"
         ],
         "name": "98790.0",
         "showlegend": true,
         "showscale": false,
         "type": "choropleth",
         "z": [
          1
         ]
        },
        {
         "colorscale": [
          [
           0,
           "#FF97FF"
          ],
          [
           1,
           "#FF97FF"
          ]
         ],
         "geo": "geo",
         "hovertemplate": "Mean Salary=95380.0<br>State=%{location}<extra></extra>",
         "locationmode": "USA-states",
         "locations": [
          "FL"
         ],
         "name": "95380.0",
         "showlegend": true,
         "showscale": false,
         "type": "choropleth",
         "z": [
          1
         ]
        },
        {
         "colorscale": [
          [
           0,
           "#FECB52"
          ],
          [
           1,
           "#FECB52"
          ]
         ],
         "geo": "geo",
         "hovertemplate": "Mean Salary=96950.0<br>State=%{location}<extra></extra>",
         "locationmode": "USA-states",
         "locations": [
          "GA",
          "ID"
         ],
         "name": "96950.0",
         "showlegend": true,
         "showscale": false,
         "type": "choropleth",
         "z": [
          1,
          1
         ]
        },
        {
         "colorscale": [
          [
           0,
           "#636efa"
          ],
          [
           1,
           "#636efa"
          ]
         ],
         "geo": "geo",
         "hovertemplate": "Mean Salary=99380.0<br>State=%{location}<extra></extra>",
         "locationmode": "USA-states",
         "locations": [
          "HI"
         ],
         "name": "99380.0",
         "showlegend": true,
         "showscale": false,
         "type": "choropleth",
         "z": [
          1
         ]
        },
        {
         "colorscale": [
          [
           0,
           "#EF553B"
          ],
          [
           1,
           "#EF553B"
          ]
         ],
         "geo": "geo",
         "hovertemplate": "Mean Salary=91680.0<br>State=%{location}<extra></extra>",
         "locationmode": "USA-states",
         "locations": [
          "IA"
         ],
         "name": "91680.0",
         "showlegend": true,
         "showscale": false,
         "type": "choropleth",
         "z": [
          1
         ]
        },
        {
         "colorscale": [
          [
           0,
           "#00cc96"
          ],
          [
           1,
           "#00cc96"
          ]
         ],
         "geo": "geo",
         "hovertemplate": "Mean Salary=98130.0<br>State=%{location}<extra></extra>",
         "locationmode": "USA-states",
         "locations": [
          "IL"
         ],
         "name": "98130.0",
         "showlegend": true,
         "showscale": false,
         "type": "choropleth",
         "z": [
          1
         ]
        },
        {
         "colorscale": [
          [
           0,
           "#ab63fa"
          ],
          [
           1,
           "#ab63fa"
          ]
         ],
         "geo": "geo",
         "hovertemplate": "Mean Salary=91520.0<br>State=%{location}<extra></extra>",
         "locationmode": "USA-states",
         "locations": [
          "IN"
         ],
         "name": "91520.0",
         "showlegend": true,
         "showscale": false,
         "type": "choropleth",
         "z": [
          1
         ]
        },
        {
         "colorscale": [
          [
           0,
           "#FFA15A"
          ],
          [
           1,
           "#FFA15A"
          ]
         ],
         "geo": "geo",
         "hovertemplate": "Mean Salary=91140.0<br>State=%{location}<extra></extra>",
         "locationmode": "USA-states",
         "locations": [
          "KS"
         ],
         "name": "91140.0",
         "showlegend": true,
         "showscale": false,
         "type": "choropleth",
         "z": [
          1
         ]
        },
        {
         "colorscale": [
          [
           0,
           "#19d3f3"
          ],
          [
           1,
           "#19d3f3"
          ]
         ],
         "geo": "geo",
         "hovertemplate": "Mean Salary=86320.0<br>State=%{location}<extra></extra>",
         "locationmode": "USA-states",
         "locations": [
          "KY"
         ],
         "name": "86320.0",
         "showlegend": true,
         "showscale": false,
         "type": "choropleth",
         "z": [
          1
         ]
        },
        {
         "colorscale": [
          [
           0,
           "#FF6692"
          ],
          [
           1,
           "#FF6692"
          ]
         ],
         "geo": "geo",
         "hovertemplate": "Mean Salary=100400.0<br>State=%{location}<extra></extra>",
         "locationmode": "USA-states",
         "locations": [
          "LA"
         ],
         "name": "100400.0",
         "showlegend": true,
         "showscale": false,
         "type": "choropleth",
         "z": [
          1
         ]
        },
        {
         "colorscale": [
          [
           0,
           "#B6E880"
          ],
          [
           1,
           "#B6E880"
          ]
         ],
         "geo": "geo",
         "hovertemplate": "Mean Salary=114700.0<br>State=%{location}<extra></extra>",
         "locationmode": "USA-states",
         "locations": [
          "MA"
         ],
         "name": "114700.0",
         "showlegend": true,
         "showscale": false,
         "type": "choropleth",
         "z": [
          1
         ]
        },
        {
         "colorscale": [
          [
           0,
           "#FF97FF"
          ],
          [
           1,
           "#FF97FF"
          ]
         ],
         "geo": "geo",
         "hovertemplate": "Mean Salary=116380.0<br>State=%{location}<extra></extra>",
         "locationmode": "USA-states",
         "locations": [
          "MD"
         ],
         "name": "116380.0",
         "showlegend": true,
         "showscale": false,
         "type": "choropleth",
         "z": [
          1
         ]
        },
        {
         "colorscale": [
          [
           0,
           "#FECB52"
          ],
          [
           1,
           "#FECB52"
          ]
         ],
         "geo": "geo",
         "hovertemplate": "Mean Salary=94400.0<br>State=%{location}<extra></extra>",
         "locationmode": "USA-states",
         "locations": [
          "ME"
         ],
         "name": "94400.0",
         "showlegend": true,
         "showscale": false,
         "type": "choropleth",
         "z": [
          1
         ]
        },
        {
         "colorscale": [
          [
           0,
           "#636efa"
          ],
          [
           1,
           "#636efa"
          ]
         ],
         "geo": "geo",
         "hovertemplate": "Mean Salary=97070.0<br>State=%{location}<extra></extra>",
         "locationmode": "USA-states",
         "locations": [
          "MI"
         ],
         "name": "97070.0",
         "showlegend": true,
         "showscale": false,
         "type": "choropleth",
         "z": [
          1
         ]
        },
        {
         "colorscale": [
          [
           0,
           "#EF553B"
          ],
          [
           1,
           "#EF553B"
          ]
         ],
         "geo": "geo",
         "hovertemplate": "Mean Salary=96970.0<br>State=%{location}<extra></extra>",
         "locationmode": "USA-states",
         "locations": [
          "MN"
         ],
         "name": "96970.0",
         "showlegend": true,
         "showscale": false,
         "type": "choropleth",
         "z": [
          1
         ]
        },
        {
         "colorscale": [
          [
           0,
           "#00cc96"
          ],
          [
           1,
           "#00cc96"
          ]
         ],
         "geo": "geo",
         "hovertemplate": "Mean Salary=91900.0<br>State=%{location}<extra></extra>",
         "locationmode": "USA-states",
         "locations": [
          "MO"
         ],
         "name": "91900.0",
         "showlegend": true,
         "showscale": false,
         "type": "choropleth",
         "z": [
          1
         ]
        },
        {
         "colorscale": [
          [
           0,
           "#ab63fa"
          ],
          [
           1,
           "#ab63fa"
          ]
         ],
         "geo": "geo",
         "hovertemplate": "Mean Salary=90180.0<br>State=%{location}<extra></extra>",
         "locationmode": "USA-states",
         "locations": [
          "MS"
         ],
         "name": "90180.0",
         "showlegend": true,
         "showscale": false,
         "type": "choropleth",
         "z": [
          1
         ]
        },
        {
         "colorscale": [
          [
           0,
           "#FFA15A"
          ],
          [
           1,
           "#FFA15A"
          ]
         ],
         "geo": "geo",
         "hovertemplate": "Mean Salary=84350.0<br>State=%{location}<extra></extra>",
         "locationmode": "USA-states",
         "locations": [
          "MT"
         ],
         "name": "84350.0",
         "showlegend": true,
         "showscale": false,
         "type": "choropleth",
         "z": [
          1
         ]
        },
        {
         "colorscale": [
          [
           0,
           "#19d3f3"
          ],
          [
           1,
           "#19d3f3"
          ]
         ],
         "geo": "geo",
         "hovertemplate": "Mean Salary=94220.0<br>State=%{location}<extra></extra>",
         "locationmode": "USA-states",
         "locations": [
          "NC"
         ],
         "name": "94220.0",
         "showlegend": true,
         "showscale": false,
         "type": "choropleth",
         "z": [
          1
         ]
        },
        {
         "colorscale": [
          [
           0,
           "#FF6692"
          ],
          [
           1,
           "#FF6692"
          ]
         ],
         "geo": "geo",
         "hovertemplate": "Mean Salary=89340.0<br>State=%{location}<extra></extra>",
         "locationmode": "USA-states",
         "locations": [
          "ND"
         ],
         "name": "89340.0",
         "showlegend": true,
         "showscale": false,
         "type": "choropleth",
         "z": [
          1
         ]
        },
        {
         "colorscale": [
          [
           0,
           "#B6E880"
          ],
          [
           1,
           "#B6E880"
          ]
         ],
         "geo": "geo",
         "hovertemplate": "Mean Salary=85850.0<br>State=%{location}<extra></extra>",
         "locationmode": "USA-states",
         "locations": [
          "NE"
         ],
         "name": "85850.0",
         "showlegend": true,
         "showscale": false,
         "type": "choropleth",
         "z": [
          1
         ]
        },
        {
         "colorscale": [
          [
           0,
           "#FF97FF"
          ],
          [
           1,
           "#FF97FF"
          ]
         ],
         "geo": "geo",
         "hovertemplate": "Mean Salary=99250.0<br>State=%{location}<extra></extra>",
         "locationmode": "USA-states",
         "locations": [
          "NH"
         ],
         "name": "99250.0",
         "showlegend": true,
         "showscale": false,
         "type": "choropleth",
         "z": [
          1
         ]
        },
        {
         "colorscale": [
          [
           0,
           "#FECB52"
          ],
          [
           1,
           "#FECB52"
          ]
         ],
         "geo": "geo",
         "hovertemplate": "Mean Salary=108280.0<br>State=%{location}<extra></extra>",
         "locationmode": "USA-states",
         "locations": [
          "NJ"
         ],
         "name": "108280.0",
         "showlegend": true,
         "showscale": false,
         "type": "choropleth",
         "z": [
          1
         ]
        },
        {
         "colorscale": [
          [
           0,
           "#636efa"
          ],
          [
           1,
           "#636efa"
          ]
         ],
         "geo": "geo",
         "hovertemplate": "Mean Salary=120230.0<br>State=%{location}<extra></extra>",
         "locationmode": "USA-states",
         "locations": [
          "NM"
         ],
         "name": "120230.0",
         "showlegend": true,
         "showscale": false,
         "type": "choropleth",
         "z": [
          1
         ]
        },
        {
         "colorscale": [
          [
           0,
           "#EF553B"
          ],
          [
           1,
           "#EF553B"
          ]
         ],
         "geo": "geo",
         "hovertemplate": "Mean Salary=95610.0<br>State=%{location}<extra></extra>",
         "locationmode": "USA-states",
         "locations": [
          "NV"
         ],
         "name": "95610.0",
         "showlegend": true,
         "showscale": false,
         "type": "choropleth",
         "z": [
          1
         ]
        },
        {
         "colorscale": [
          [
           0,
           "#00cc96"
          ],
          [
           1,
           "#00cc96"
          ]
         ],
         "geo": "geo",
         "hovertemplate": "Mean Salary=103800.0<br>State=%{location}<extra></extra>",
         "locationmode": "USA-states",
         "locations": [
          "NY"
         ],
         "name": "103800.0",
         "showlegend": true,
         "showscale": false,
         "type": "choropleth",
         "z": [
          1
         ]
        },
        {
         "colorscale": [
          [
           0,
           "#ab63fa"
          ],
          [
           1,
           "#ab63fa"
          ]
         ],
         "geo": "geo",
         "hovertemplate": "Mean Salary=95950.0<br>State=%{location}<extra></extra>",
         "locationmode": "USA-states",
         "locations": [
          "OH"
         ],
         "name": "95950.0",
         "showlegend": true,
         "showscale": false,
         "type": "choropleth",
         "z": [
          1
         ]
        },
        {
         "colorscale": [
          [
           0,
           "#FFA15A"
          ],
          [
           1,
           "#FFA15A"
          ]
         ],
         "geo": "geo",
         "hovertemplate": "Mean Salary=95250.0<br>State=%{location}<extra></extra>",
         "locationmode": "USA-states",
         "locations": [
          "OK"
         ],
         "name": "95250.0",
         "showlegend": true,
         "showscale": false,
         "type": "choropleth",
         "z": [
          1
         ]
        },
        {
         "colorscale": [
          [
           0,
           "#19d3f3"
          ],
          [
           1,
           "#19d3f3"
          ]
         ],
         "geo": "geo",
         "hovertemplate": "Mean Salary=117290.0<br>State=%{location}<extra></extra>",
         "locationmode": "USA-states",
         "locations": [
          "OR"
         ],
         "name": "117290.0",
         "showlegend": true,
         "showscale": false,
         "type": "choropleth",
         "z": [
          1
         ]
        },
        {
         "colorscale": [
          [
           0,
           "#FF6692"
          ],
          [
           1,
           "#FF6692"
          ]
         ],
         "geo": "geo",
         "hovertemplate": "Mean Salary=94890.0<br>State=%{location}<extra></extra>",
         "locationmode": "USA-states",
         "locations": [
          "PA"
         ],
         "name": "94890.0",
         "showlegend": true,
         "showscale": false,
         "type": "choropleth",
         "z": [
          1
         ]
        },
        {
         "colorscale": [
          [
           0,
           "#B6E880"
          ],
          [
           1,
           "#B6E880"
          ]
         ],
         "geo": "geo",
         "hovertemplate": "Mean Salary=111230.0<br>State=%{location}<extra></extra>",
         "locationmode": "USA-states",
         "locations": [
          "RI"
         ],
         "name": "111230.0",
         "showlegend": true,
         "showscale": false,
         "type": "choropleth",
         "z": [
          1
         ]
        },
        {
         "colorscale": [
          [
           0,
           "#FF97FF"
          ],
          [
           1,
           "#FF97FF"
          ]
         ],
         "geo": "geo",
         "hovertemplate": "Mean Salary=95270.0<br>State=%{location}<extra></extra>",
         "locationmode": "USA-states",
         "locations": [
          "SC"
         ],
         "name": "95270.0",
         "showlegend": true,
         "showscale": false,
         "type": "choropleth",
         "z": [
          1
         ]
        },
        {
         "colorscale": [
          [
           0,
           "#FECB52"
          ],
          [
           1,
           "#FECB52"
          ]
         ],
         "geo": "geo",
         "hovertemplate": "Mean Salary=83640.0<br>State=%{location}<extra></extra>",
         "locationmode": "USA-states",
         "locations": [
          "SD"
         ],
         "name": "83640.0",
         "showlegend": true,
         "showscale": false,
         "type": "choropleth",
         "z": [
          1
         ]
        },
        {
         "colorscale": [
          [
           0,
           "#636efa"
          ],
          [
           1,
           "#636efa"
          ]
         ],
         "geo": "geo",
         "hovertemplate": "Mean Salary=91940.0<br>State=%{location}<extra></extra>",
         "locationmode": "USA-states",
         "locations": [
          "TN"
         ],
         "name": "91940.0",
         "showlegend": true,
         "showscale": false,
         "type": "choropleth",
         "z": [
          1
         ]
        },
        {
         "colorscale": [
          [
           0,
           "#EF553B"
          ],
          [
           1,
           "#EF553B"
          ]
         ],
         "geo": "geo",
         "hovertemplate": "Mean Salary=102180.0<br>State=%{location}<extra></extra>",
         "locationmode": "USA-states",
         "locations": [
          "TX"
         ],
         "name": "102180.0",
         "showlegend": true,
         "showscale": false,
         "type": "choropleth",
         "z": [
          1
         ]
        },
        {
         "colorscale": [
          [
           0,
           "#00cc96"
          ],
          [
           1,
           "#00cc96"
          ]
         ],
         "geo": "geo",
         "hovertemplate": "Mean Salary=93690.0<br>State=%{location}<extra></extra>",
         "locationmode": "USA-states",
         "locations": [
          "UT"
         ],
         "name": "93690.0",
         "showlegend": true,
         "showscale": false,
         "type": "choropleth",
         "z": [
          1
         ]
        },
        {
         "colorscale": [
          [
           0,
           "#ab63fa"
          ],
          [
           1,
           "#ab63fa"
          ]
         ],
         "geo": "geo",
         "hovertemplate": "Mean Salary=105260.0<br>State=%{location}<extra></extra>",
         "locationmode": "USA-states",
         "locations": [
          "VA"
         ],
         "name": "105260.0",
         "showlegend": true,
         "showscale": false,
         "type": "choropleth",
         "z": [
          1
         ]
        },
        {
         "colorscale": [
          [
           0,
           "#FFA15A"
          ],
          [
           1,
           "#FFA15A"
          ]
         ],
         "geo": "geo",
         "hovertemplate": "Mean Salary=94590.0<br>State=%{location}<extra></extra>",
         "locationmode": "USA-states",
         "locations": [
          "VT"
         ],
         "name": "94590.0",
         "showlegend": true,
         "showscale": false,
         "type": "choropleth",
         "z": [
          1
         ]
        },
        {
         "colorscale": [
          [
           0,
           "#19d3f3"
          ],
          [
           1,
           "#19d3f3"
          ]
         ],
         "geo": "geo",
         "hovertemplate": "Mean Salary=116020.0<br>State=%{location}<extra></extra>",
         "locationmode": "USA-states",
         "locations": [
          "WA"
         ],
         "name": "116020.0",
         "showlegend": true,
         "showscale": false,
         "type": "choropleth",
         "z": [
          1
         ]
        },
        {
         "colorscale": [
          [
           0,
           "#FF6692"
          ],
          [
           1,
           "#FF6692"
          ]
         ],
         "geo": "geo",
         "hovertemplate": "Mean Salary=89180.0<br>State=%{location}<extra></extra>",
         "locationmode": "USA-states",
         "locations": [
          "WI"
         ],
         "name": "89180.0",
         "showlegend": true,
         "showscale": false,
         "type": "choropleth",
         "z": [
          1
         ]
        },
        {
         "colorscale": [
          [
           0,
           "#B6E880"
          ],
          [
           1,
           "#B6E880"
          ]
         ],
         "geo": "geo",
         "hovertemplate": "Mean Salary=92470.0<br>State=%{location}<extra></extra>",
         "locationmode": "USA-states",
         "locations": [
          "WV"
         ],
         "name": "92470.0",
         "showlegend": true,
         "showscale": false,
         "type": "choropleth",
         "z": [
          1
         ]
        },
        {
         "colorscale": [
          [
           0,
           "#FF97FF"
          ],
          [
           1,
           "#FF97FF"
          ]
         ],
         "geo": "geo",
         "hovertemplate": "Mean Salary=101800.0<br>State=%{location}<extra></extra>",
         "locationmode": "USA-states",
         "locations": [
          "WY"
         ],
         "name": "101800.0",
         "showlegend": true,
         "showscale": false,
         "type": "choropleth",
         "z": [
          1
         ]
        },
        {
         "lat": [
          61.370716,
          32.806671,
          34.969704,
          33.729759,
          36.116203,
          41.597782,
          38.9072,
          39.318523,
          27.766279,
          33.040619,
          21.094318,
          42.011539,
          44.240459,
          40.349457,
          39.849426,
          38.5266,
          37.66814,
          31.169546,
          42.230171,
          39.063946,
          44.693947,
          43.326618,
          45.694454,
          38.456085,
          32.741646,
          46.921925,
          35.630066,
          47.528912,
          41.12537,
          43.452492,
          40.298904,
          34.840515,
          38.313515,
          42.165726,
          40.388783,
          35.565342,
          44.572021,
          40.590752,
          41.680893,
          33.856892,
          44.299782,
          35.747845,
          31.054487,
          40.150032,
          37.769337,
          44.045876,
          47.400902,
          44.268543,
          38.491226,
          42.755966
         ],
         "locationmode": "USA-states",
         "locations": [
          "AK",
          "AL",
          "AR",
          "AZ",
          "CA",
          "CT",
          "DC",
          "DE",
          "FL",
          "GA",
          "HI",
          "IA",
          "ID",
          "IL",
          "IN",
          "KS",
          "KY",
          "LA",
          "MA",
          "MD",
          "ME",
          "MI",
          "MN",
          "MO",
          "MS",
          "MT",
          "NC",
          "ND",
          "NE",
          "NH",
          "NJ",
          "NM",
          "NV",
          "NY",
          "OH",
          "OK",
          "OR",
          "PA",
          "RI",
          "SC",
          "SD",
          "TN",
          "TX",
          "UT",
          "VA",
          "VT",
          "WA",
          "WI",
          "WV",
          "WY"
         ],
         "lon": [
          -152.404419,
          -86.79113,
          -92.373123,
          -111.431221,
          -119.681564,
          -72.755371,
          -77.0369,
          -75.507141,
          -81.686783,
          -83.643074,
          -157.498337,
          -93.210526,
          -114.478828,
          -88.986137,
          -86.258278,
          -96.726486,
          -84.670067,
          -91.867805,
          -71.530106,
          -76.802101,
          -69.381927,
          -84.536095,
          -93.900192,
          -92.288368,
          -89.678696,
          -110.454353,
          -79.806419,
          -99.784012,
          -98.268082,
          -71.563896,
          -74.521011,
          -106.248482,
          -117.055374,
          -74.948051,
          -82.764915,
          -96.928917,
          -122.070938,
          -77.209755,
          -71.51178,
          -80.945007,
          -99.438828,
          -86.692345,
          -97.563461,
          -111.862434,
          -78.169968,
          -72.710686,
          -121.490494,
          -89.616508,
          -80.954453,
          -107.30249
         ],
         "mode": "text",
         "showlegend": false,
         "text": [
          "110330",
          "105480",
          "81320",
          "105620",
          "127090",
          "106530",
          "133310",
          "98790",
          "95380",
          "96950",
          "99380",
          "91680",
          "96950",
          "98130",
          "91520",
          "91140",
          "86320",
          "100400",
          "114700",
          "116380",
          "94400",
          "97070",
          "96970",
          "91900",
          "90180",
          "84350",
          "94220",
          "89340",
          "85850",
          "99250",
          "108280",
          "120230",
          "95610",
          "103800",
          "95950",
          "95250",
          "117290",
          "94890",
          "111230",
          "95270",
          "83640",
          "91940",
          "102180",
          "93690",
          "105260",
          "94590",
          "116020",
          "89180",
          "92470",
          "101800"
         ],
         "type": "scattergeo"
        }
       ],
       "layout": {
        "geo": {
         "center": {},
         "domain": {
          "x": [
           0,
           1
          ],
          "y": [
           0,
           1
          ]
         },
         "scope": "usa",
         "showlakes": false
        },
        "height": 600,
        "legend": {
         "title": {
          "text": "Mean Salary"
         },
         "tracegroupgap": 0
        },
        "margin": {
         "b": 0,
         "l": 0,
         "r": 0,
         "t": 50
        },
        "template": {
         "data": {
          "bar": [
           {
            "error_x": {
             "color": "#2a3f5f"
            },
            "error_y": {
             "color": "#2a3f5f"
            },
            "marker": {
             "line": {
              "color": "#E5ECF6",
              "width": 0.5
             },
             "pattern": {
              "fillmode": "overlay",
              "size": 10,
              "solidity": 0.2
             }
            },
            "type": "bar"
           }
          ],
          "barpolar": [
           {
            "marker": {
             "line": {
              "color": "#E5ECF6",
              "width": 0.5
             },
             "pattern": {
              "fillmode": "overlay",
              "size": 10,
              "solidity": 0.2
             }
            },
            "type": "barpolar"
           }
          ],
          "carpet": [
           {
            "aaxis": {
             "endlinecolor": "#2a3f5f",
             "gridcolor": "white",
             "linecolor": "white",
             "minorgridcolor": "white",
             "startlinecolor": "#2a3f5f"
            },
            "baxis": {
             "endlinecolor": "#2a3f5f",
             "gridcolor": "white",
             "linecolor": "white",
             "minorgridcolor": "white",
             "startlinecolor": "#2a3f5f"
            },
            "type": "carpet"
           }
          ],
          "choropleth": [
           {
            "colorbar": {
             "outlinewidth": 0,
             "ticks": ""
            },
            "type": "choropleth"
           }
          ],
          "contour": [
           {
            "colorbar": {
             "outlinewidth": 0,
             "ticks": ""
            },
            "colorscale": [
             [
              0,
              "#0d0887"
             ],
             [
              0.1111111111111111,
              "#46039f"
             ],
             [
              0.2222222222222222,
              "#7201a8"
             ],
             [
              0.3333333333333333,
              "#9c179e"
             ],
             [
              0.4444444444444444,
              "#bd3786"
             ],
             [
              0.5555555555555556,
              "#d8576b"
             ],
             [
              0.6666666666666666,
              "#ed7953"
             ],
             [
              0.7777777777777778,
              "#fb9f3a"
             ],
             [
              0.8888888888888888,
              "#fdca26"
             ],
             [
              1,
              "#f0f921"
             ]
            ],
            "type": "contour"
           }
          ],
          "contourcarpet": [
           {
            "colorbar": {
             "outlinewidth": 0,
             "ticks": ""
            },
            "type": "contourcarpet"
           }
          ],
          "heatmap": [
           {
            "colorbar": {
             "outlinewidth": 0,
             "ticks": ""
            },
            "colorscale": [
             [
              0,
              "#0d0887"
             ],
             [
              0.1111111111111111,
              "#46039f"
             ],
             [
              0.2222222222222222,
              "#7201a8"
             ],
             [
              0.3333333333333333,
              "#9c179e"
             ],
             [
              0.4444444444444444,
              "#bd3786"
             ],
             [
              0.5555555555555556,
              "#d8576b"
             ],
             [
              0.6666666666666666,
              "#ed7953"
             ],
             [
              0.7777777777777778,
              "#fb9f3a"
             ],
             [
              0.8888888888888888,
              "#fdca26"
             ],
             [
              1,
              "#f0f921"
             ]
            ],
            "type": "heatmap"
           }
          ],
          "histogram": [
           {
            "marker": {
             "pattern": {
              "fillmode": "overlay",
              "size": 10,
              "solidity": 0.2
             }
            },
            "type": "histogram"
           }
          ],
          "histogram2d": [
           {
            "colorbar": {
             "outlinewidth": 0,
             "ticks": ""
            },
            "colorscale": [
             [
              0,
              "#0d0887"
             ],
             [
              0.1111111111111111,
              "#46039f"
             ],
             [
              0.2222222222222222,
              "#7201a8"
             ],
             [
              0.3333333333333333,
              "#9c179e"
             ],
             [
              0.4444444444444444,
              "#bd3786"
             ],
             [
              0.5555555555555556,
              "#d8576b"
             ],
             [
              0.6666666666666666,
              "#ed7953"
             ],
             [
              0.7777777777777778,
              "#fb9f3a"
             ],
             [
              0.8888888888888888,
              "#fdca26"
             ],
             [
              1,
              "#f0f921"
             ]
            ],
            "type": "histogram2d"
           }
          ],
          "histogram2dcontour": [
           {
            "colorbar": {
             "outlinewidth": 0,
             "ticks": ""
            },
            "colorscale": [
             [
              0,
              "#0d0887"
             ],
             [
              0.1111111111111111,
              "#46039f"
             ],
             [
              0.2222222222222222,
              "#7201a8"
             ],
             [
              0.3333333333333333,
              "#9c179e"
             ],
             [
              0.4444444444444444,
              "#bd3786"
             ],
             [
              0.5555555555555556,
              "#d8576b"
             ],
             [
              0.6666666666666666,
              "#ed7953"
             ],
             [
              0.7777777777777778,
              "#fb9f3a"
             ],
             [
              0.8888888888888888,
              "#fdca26"
             ],
             [
              1,
              "#f0f921"
             ]
            ],
            "type": "histogram2dcontour"
           }
          ],
          "mesh3d": [
           {
            "colorbar": {
             "outlinewidth": 0,
             "ticks": ""
            },
            "type": "mesh3d"
           }
          ],
          "parcoords": [
           {
            "line": {
             "colorbar": {
              "outlinewidth": 0,
              "ticks": ""
             }
            },
            "type": "parcoords"
           }
          ],
          "pie": [
           {
            "automargin": true,
            "type": "pie"
           }
          ],
          "scatter": [
           {
            "fillpattern": {
             "fillmode": "overlay",
             "size": 10,
             "solidity": 0.2
            },
            "type": "scatter"
           }
          ],
          "scatter3d": [
           {
            "line": {
             "colorbar": {
              "outlinewidth": 0,
              "ticks": ""
             }
            },
            "marker": {
             "colorbar": {
              "outlinewidth": 0,
              "ticks": ""
             }
            },
            "type": "scatter3d"
           }
          ],
          "scattercarpet": [
           {
            "marker": {
             "colorbar": {
              "outlinewidth": 0,
              "ticks": ""
             }
            },
            "type": "scattercarpet"
           }
          ],
          "scattergeo": [
           {
            "marker": {
             "colorbar": {
              "outlinewidth": 0,
              "ticks": ""
             }
            },
            "type": "scattergeo"
           }
          ],
          "scattergl": [
           {
            "marker": {
             "colorbar": {
              "outlinewidth": 0,
              "ticks": ""
             }
            },
            "type": "scattergl"
           }
          ],
          "scattermap": [
           {
            "marker": {
             "colorbar": {
              "outlinewidth": 0,
              "ticks": ""
             }
            },
            "type": "scattermap"
           }
          ],
          "scattermapbox": [
           {
            "marker": {
             "colorbar": {
              "outlinewidth": 0,
              "ticks": ""
             }
            },
            "type": "scattermapbox"
           }
          ],
          "scatterpolar": [
           {
            "marker": {
             "colorbar": {
              "outlinewidth": 0,
              "ticks": ""
             }
            },
            "type": "scatterpolar"
           }
          ],
          "scatterpolargl": [
           {
            "marker": {
             "colorbar": {
              "outlinewidth": 0,
              "ticks": ""
             }
            },
            "type": "scatterpolargl"
           }
          ],
          "scatterternary": [
           {
            "marker": {
             "colorbar": {
              "outlinewidth": 0,
              "ticks": ""
             }
            },
            "type": "scatterternary"
           }
          ],
          "surface": [
           {
            "colorbar": {
             "outlinewidth": 0,
             "ticks": ""
            },
            "colorscale": [
             [
              0,
              "#0d0887"
             ],
             [
              0.1111111111111111,
              "#46039f"
             ],
             [
              0.2222222222222222,
              "#7201a8"
             ],
             [
              0.3333333333333333,
              "#9c179e"
             ],
             [
              0.4444444444444444,
              "#bd3786"
             ],
             [
              0.5555555555555556,
              "#d8576b"
             ],
             [
              0.6666666666666666,
              "#ed7953"
             ],
             [
              0.7777777777777778,
              "#fb9f3a"
             ],
             [
              0.8888888888888888,
              "#fdca26"
             ],
             [
              1,
              "#f0f921"
             ]
            ],
            "type": "surface"
           }
          ],
          "table": [
           {
            "cells": {
             "fill": {
              "color": "#EBF0F8"
             },
             "line": {
              "color": "white"
             }
            },
            "header": {
             "fill": {
              "color": "#C8D4E3"
             },
             "line": {
              "color": "white"
             }
            },
            "type": "table"
           }
          ]
         },
         "layout": {
          "annotationdefaults": {
           "arrowcolor": "#2a3f5f",
           "arrowhead": 0,
           "arrowwidth": 1
          },
          "autotypenumbers": "strict",
          "coloraxis": {
           "colorbar": {
            "outlinewidth": 0,
            "ticks": ""
           }
          },
          "colorscale": {
           "diverging": [
            [
             0,
             "#8e0152"
            ],
            [
             0.1,
             "#c51b7d"
            ],
            [
             0.2,
             "#de77ae"
            ],
            [
             0.3,
             "#f1b6da"
            ],
            [
             0.4,
             "#fde0ef"
            ],
            [
             0.5,
             "#f7f7f7"
            ],
            [
             0.6,
             "#e6f5d0"
            ],
            [
             0.7,
             "#b8e186"
            ],
            [
             0.8,
             "#7fbc41"
            ],
            [
             0.9,
             "#4d9221"
            ],
            [
             1,
             "#276419"
            ]
           ],
           "sequential": [
            [
             0,
             "#0d0887"
            ],
            [
             0.1111111111111111,
             "#46039f"
            ],
            [
             0.2222222222222222,
             "#7201a8"
            ],
            [
             0.3333333333333333,
             "#9c179e"
            ],
            [
             0.4444444444444444,
             "#bd3786"
            ],
            [
             0.5555555555555556,
             "#d8576b"
            ],
            [
             0.6666666666666666,
             "#ed7953"
            ],
            [
             0.7777777777777778,
             "#fb9f3a"
            ],
            [
             0.8888888888888888,
             "#fdca26"
            ],
            [
             1,
             "#f0f921"
            ]
           ],
           "sequentialminus": [
            [
             0,
             "#0d0887"
            ],
            [
             0.1111111111111111,
             "#46039f"
            ],
            [
             0.2222222222222222,
             "#7201a8"
            ],
            [
             0.3333333333333333,
             "#9c179e"
            ],
            [
             0.4444444444444444,
             "#bd3786"
            ],
            [
             0.5555555555555556,
             "#d8576b"
            ],
            [
             0.6666666666666666,
             "#ed7953"
            ],
            [
             0.7777777777777778,
             "#fb9f3a"
            ],
            [
             0.8888888888888888,
             "#fdca26"
            ],
            [
             1,
             "#f0f921"
            ]
           ]
          },
          "colorway": [
           "#636efa",
           "#EF553B",
           "#00cc96",
           "#ab63fa",
           "#FFA15A",
           "#19d3f3",
           "#FF6692",
           "#B6E880",
           "#FF97FF",
           "#FECB52"
          ],
          "font": {
           "color": "#2a3f5f"
          },
          "geo": {
           "bgcolor": "white",
           "lakecolor": "white",
           "landcolor": "#E5ECF6",
           "showlakes": true,
           "showland": true,
           "subunitcolor": "white"
          },
          "hoverlabel": {
           "align": "left"
          },
          "hovermode": "closest",
          "mapbox": {
           "style": "light"
          },
          "paper_bgcolor": "white",
          "plot_bgcolor": "#E5ECF6",
          "polar": {
           "angularaxis": {
            "gridcolor": "white",
            "linecolor": "white",
            "ticks": ""
           },
           "bgcolor": "#E5ECF6",
           "radialaxis": {
            "gridcolor": "white",
            "linecolor": "white",
            "ticks": ""
           }
          },
          "scene": {
           "xaxis": {
            "backgroundcolor": "#E5ECF6",
            "gridcolor": "white",
            "gridwidth": 2,
            "linecolor": "white",
            "showbackground": true,
            "ticks": "",
            "zerolinecolor": "white"
           },
           "yaxis": {
            "backgroundcolor": "#E5ECF6",
            "gridcolor": "white",
            "gridwidth": 2,
            "linecolor": "white",
            "showbackground": true,
            "ticks": "",
            "zerolinecolor": "white"
           },
           "zaxis": {
            "backgroundcolor": "#E5ECF6",
            "gridcolor": "white",
            "gridwidth": 2,
            "linecolor": "white",
            "showbackground": true,
            "ticks": "",
            "zerolinecolor": "white"
           }
          },
          "shapedefaults": {
           "line": {
            "color": "#2a3f5f"
           }
          },
          "ternary": {
           "aaxis": {
            "gridcolor": "white",
            "linecolor": "white",
            "ticks": ""
           },
           "baxis": {
            "gridcolor": "white",
            "linecolor": "white",
            "ticks": ""
           },
           "bgcolor": "#E5ECF6",
           "caxis": {
            "gridcolor": "white",
            "linecolor": "white",
            "ticks": ""
           }
          },
          "title": {
           "x": 0.05
          },
          "xaxis": {
           "automargin": true,
           "gridcolor": "white",
           "linecolor": "white",
           "ticks": "",
           "title": {
            "standoff": 15
           },
           "zerolinecolor": "white",
           "zerolinewidth": 2
          },
          "yaxis": {
           "automargin": true,
           "gridcolor": "white",
           "linecolor": "white",
           "ticks": "",
           "title": {
            "standoff": 15
           },
           "zerolinecolor": "white",
           "zerolinewidth": 2
          }
         }
        },
        "title": {
         "text": "Engineering – Avg Salary by State (BLS OEWS May 2024)"
        },
        "width": 900
       }
      }
     },
     "metadata": {},
     "output_type": "display_data"
    }
   ],
   "source": [
    "# 3c: Spatial analysis – average salary by major category across US states\n",
    "import pandas as pd\n",
    "import numpy as np\n",
    "from scipy.stats import f_oneway\n",
    "import plotly.express as px\n",
    "import plotly.graph_objects as go\n",
    "\n",
    "# 1. Load recent graduates data\n",
    "grads = pd.read_csv(\"data/recent-grads.csv\")\n",
    "# Why: we'll enrich each major with state-level wage info\n",
    "\n",
    "# 2. Load OEWS state-level wage data\n",
    "oews = pd.read_excel(\"data/state_M2024_dl.xlsx\", sheet_name=0)\n",
    "# Why: this contains AREA_TITLE, OCC_CODE, A_MEAN, etc.\n",
    "\n",
    "# 3. Rename to match our schema\n",
    "oews_state = oews.rename(columns={\n",
    "    \"AREA_TITLE\": \"StateName\",\n",
    "    \"OCC_CODE\":   \"SOC\",\n",
    "    \"A_MEAN\":     \"Annual_Mean_Wage\"\n",
    "})\n",
    "# Why: unify names for merging and plotting\n",
    "\n",
    "# 4. Map full state names → USPS codes for Plotly\n",
    "state_abbrev = {\n",
    "    \"Alabama\":\"AL\",\"Alaska\":\"AK\",\"Arizona\":\"AZ\",\"Arkansas\":\"AR\",\n",
    "    \"California\":\"CA\",\"Colorado\":\"CO\",\"Connecticut\":\"CT\",\"Delaware\":\"DE\",\n",
    "    \"District of Columbia\":\"DC\",\"Florida\":\"FL\",\"Georgia\":\"GA\",\"Hawaii\":\"HI\",\n",
    "    \"Idaho\":\"ID\",\"Illinois\":\"IL\",\"Indiana\":\"IN\",\"Iowa\":\"IA\",\"Kansas\":\"KS\",\n",
    "    \"Kentucky\":\"KY\",\"Louisiana\":\"LA\",\"Maine\":\"ME\",\"Maryland\":\"MD\",\n",
    "    \"Massachusetts\":\"MA\",\"Michigan\":\"MI\",\"Minnesota\":\"MN\",\"Mississippi\":\"MS\",\n",
    "    \"Missouri\":\"MO\",\"Montana\":\"MT\",\"Nebraska\":\"NE\",\"Nevada\":\"NV\",\"New Hampshire\":\"NH\",\n",
    "    \"New Jersey\":\"NJ\",\"New Mexico\":\"NM\",\"New York\":\"NY\",\"North Carolina\":\"NC\",\n",
    "    \"North Dakota\":\"ND\",\"Ohio\":\"OH\",\"Oklahoma\":\"OK\",\"Oregon\":\"OR\",\n",
    "    \"Pennsylvania\":\"PA\",\"Rhode Island\":\"RI\",\"South Carolina\":\"SC\",\"South Dakota\":\"SD\",\n",
    "    \"Tennessee\":\"TN\",\"Texas\":\"TX\",\"Utah\":\"UT\",\"Vermont\":\"VT\",\"Virginia\":\"VA\",\n",
    "    \"Washington\":\"WA\",\"West Virginia\":\"WV\",\"Wisconsin\":\"WI\",\"Wyoming\":\"WY\"\n",
    "}\n",
    "oews_state[\"State\"] = oews_state[\"StateName\"].map(state_abbrev)\n",
    "# Why: Plotly choropleth expects USPS codes in 'locations'\n",
    "\n",
    "# 5. Define Major_category → SOC mapping\n",
    "major_to_soc = {\n",
    "    \"Engineering\":    \"17-0000\",\n",
    "    \"Business\":       \"13-0000\",\n",
    "    \"Health\":         \"29-0000\",\n",
    "    \"Social Science\": \"19-0000\",\n",
    "    \"Psychology\":     \"19-3000\",\n",
    "    \"Biology\":        \"19-0000\"\n",
    "    # TODO: add any other Major_category keys from your dataset\n",
    "}\n",
    "grads[\"SOC\"] = grads[\"Major_category\"].map(major_to_soc)\n",
    "# Why: link each graduate row to its occupation code\n",
    "\n",
    "# 6. Merge grads with state data on SOC\n",
    "grads_state = grads.merge(\n",
    "    oews_state[[\"SOC\",\"State\",\"Annual_Mean_Wage\"]],\n",
    "    on=\"SOC\", how=\"left\"\n",
    ")\n",
    "# Why: attach state-level mean wage to each major\n",
    "\n",
    "# 7. Aggregate: mean wage by State & Major_category\n",
    "state_major_salary = (\n",
    "    grads_state\n",
    "    .groupby([\"State\",\"Major_category\"])[\"Annual_Mean_Wage\"]\n",
    "    .mean()\n",
    "    .reset_index()\n",
    "    .dropna(subset=[\"Annual_Mean_Wage\"])\n",
    ")\n",
    "# Why: prepare tidy table for stats & mapping\n",
    "\n",
    "# 8. One-way ANOVA across major categories\n",
    "groups = [grp[\"Annual_Mean_Wage\"].values for _, grp in state_major_salary.groupby(\"Major_category\")]\n",
    "F_stat, p_val = f_oneway(*groups)\n",
    "print(f\"ANOVA across majors: F = {F_stat:.2f}, p = {p_val:.3f}\")\n",
    "# Why: tests if average wages differ by major category nationally\n",
    "\n",
    "# 9. Prepare state centroids (including DC) for text overlay\n",
    "state_centroids = {\n",
    "    \"AL\":[32.806671, -86.791130],\"AK\":[61.370716, -152.404419],\"AZ\":[33.729759, -111.431221],\n",
    "    \"AR\":[34.969704, -92.373123],\"CA\":[36.116203, -119.681564],\"CO\":[39.059811, -105.311104],\n",
    "    \"CT\":[41.597782, -72.755371],\"DE\":[39.318523, -75.507141],\"FL\":[27.766279, -81.686783],\n",
    "    \"GA\":[33.040619, -83.643074],\"HI\":[21.094318, -157.498337],\"ID\":[44.240459, -114.478828],\n",
    "    \"IL\":[40.349457, -88.986137],\"IN\":[39.849426, -86.258278],\"IA\":[42.011539, -93.210526],\n",
    "    \"KS\":[38.526600, -96.726486],\"KY\":[37.668140, -84.670067],\"LA\":[31.169546, -91.867805],\n",
    "    \"ME\":[44.693947, -69.381927],\"MD\":[39.063946, -76.802101],\"MA\":[42.230171, -71.530106],\n",
    "    \"MI\":[43.326618, -84.536095],\"MN\":[45.694454, -93.900192],\"MS\":[32.741646, -89.678696],\n",
    "    \"MO\":[38.456085, -92.288368],\"MT\":[46.921925, -110.454353],\"NE\":[41.125370, -98.268082],\n",
    "    \"NV\":[38.313515, -117.055374],\"NH\":[43.452492, -71.563896],\"NJ\":[40.298904, -74.521011],\n",
    "    \"NM\":[34.840515, -106.248482],\"NY\":[42.165726, -74.948051],\"NC\":[35.630066, -79.806419],\n",
    "    \"ND\":[47.528912, -99.784012],\"OH\":[40.388783, -82.764915],\"OK\":[35.565342, -96.928917],\n",
    "    \"OR\":[44.572021, -122.070938],\"PA\":[40.590752, -77.209755],\"RI\":[41.680893, -71.511780],\n",
    "    \"SC\":[33.856892, -80.945007],\"SD\":[44.299782, -99.438828],\"TN\":[35.747845, -86.692345],\n",
    "    \"TX\":[31.054487, -97.563461],\"UT\":[40.150032, -111.862434],\"VT\":[44.045876, -72.710686],\n",
    "    \"VA\":[37.769337, -78.169968],\"WA\":[47.400902, -121.490494],\"WV\":[38.491226, -80.954453],\n",
    "    \"WI\":[44.268543, -89.616508],\"WY\":[42.755966, -107.302490],\n",
    "    \"DC\":[38.9072,  -77.0369]  # Added to avoid KeyError\n",
    "}\n",
    "# Why: need centroids to place state labels\n",
    "\n",
    "# 10. Plot choropleth for a chosen major (change as needed)\n",
    "major = \"Engineering\"\n",
    "df = state_major_salary[state_major_salary[\"Major_category\"] == major]\n",
    "\n",
    "fig = px.choropleth(\n",
    "    df,\n",
    "    locations=\"State\",\n",
    "    locationmode=\"USA-states\",\n",
    "    color=\"Annual_Mean_Wage\",\n",
    "    scope=\"usa\",\n",
    "    color_continuous_scale=\"Blues\",\n",
    "    range_color=(df.Annual_Mean_Wage.min(), df.Annual_Mean_Wage.max()),\n",
    "    labels={\"Annual_Mean_Wage\":\"Mean Salary\"},\n",
    "    title=f\"{major} – Avg Salary by State (BLS OEWS May 2024)\"\n",
    ")\n",
    "\n",
    "# 11. Overlay state-centered salary labels\n",
    "fig.add_trace(\n",
    "    go.Scattergeo(\n",
    "        locations = df.State,\n",
    "        locationmode = \"USA-states\",\n",
    "        lon = [state_centroids[s][1] for s in df.State],\n",
    "        lat = [state_centroids[s][0] for s in df.State],\n",
    "        text = df.Annual_Mean_Wage.round(0).astype(int).astype(str),\n",
    "        mode = \"text\",\n",
    "        showlegend=False\n",
    "    )\n",
    ")\n",
    "# Why: labels each state with its mean salary\n",
    "\n",
    "fig.update_layout(\n",
    "    margin={\"r\":0,\"t\":50,\"l\":0,\"b\":0},\n",
    "    geo=dict(showlakes=False),\n",
    "    height=600,\n",
    "    width=900\n",
    ")\n",
    "\n",
    "fig.show()\n",
    "# Why: this map matches your desired style with clear state labels\n"
   ]
  },
  {
   "cell_type": "code",
   "execution_count": 10,
   "metadata": {},
   "outputs": [
    {
     "data": {
      "text/markdown": [
       "\n",
       "**Key Takeaways**\n",
       "- Majors linked to higher occupation-level unemployment risk tend to have lower median salaries (t-test, p < 0.05).\n",
       "- Unemployment gaps differ significantly across gender composition buckets (ANOVA, p < 0.05), with mixed-gender majors showing distinct patterns.\n",
       "- The share of women in a major is negatively correlated with median salary (r < 0, p < 0.05), highlighting persistent gender pay gaps.\n"
      ],
      "text/plain": [
       "<IPython.core.display.Markdown object>"
      ]
     },
     "metadata": {},
     "output_type": "display_data"
    }
   ],
   "source": [
    "# Why: Summarize key findings for presentation and reporting\n",
    "\n",
    "from IPython.display import Markdown, display\n",
    "\n",
    "summary = \"\"\"\n",
    "**Key Takeaways**\n",
    "- Majors linked to higher occupation-level unemployment risk tend to have lower median salaries (t-test, p < 0.05).\n",
    "- Unemployment gaps differ significantly across gender composition buckets (ANOVA, p < 0.05), with mixed-gender majors showing distinct patterns.\n",
    "- The share of women in a major is negatively correlated with median salary (r < 0, p < 0.05), highlighting persistent gender pay gaps.\n",
    "\"\"\"\n",
    "display(Markdown(summary))"
   ]
  },
  {
   "cell_type": "code",
   "execution_count": 11,
   "metadata": {},
   "outputs": [],
   "source": [
    "# Why: Export all figures to a PowerPoint deck for easy sharing\n",
    "\n",
    "from pptx import Presentation\n",
    "from pptx.util import Inches\n",
    "\n",
    "import glob\n",
    "\n",
    "prs = Presentation()\n",
    "slide_order = [\n",
    "    'fig1_ttest.png',\n",
    "    'fig2_anova.png',\n",
    "    'fig3_corr.png',\n",
    "    'fig4_heatmap.png',\n",
    "    'fig5_timeseries.png'\n",
    "]\n",
    "\n",
    "for fig in slide_order:\n",
    "    slide = prs.slides.add_slide(prs.slide_layouts[5])\n",
    "    title = slide.shapes.title\n",
    "    title.text = fig.replace('fig', 'Figure ').replace('_', ' ').replace('.png', '')\n",
    "    img_path = f'outputs/figs/{fig}'\n",
    "    slide.shapes.add_picture(img_path, Inches(1), Inches(1.5), width=Inches(8))\n",
    "\n",
    "prs.save('outputs/Project4_deck.pptx')"
   ]
  }
 ],
 "metadata": {
  "kernelspec": {
   "display_name": ".venv",
   "language": "python",
   "name": "python3"
  },
  "language_info": {
   "codemirror_mode": {
    "name": "ipython",
    "version": 3
   },
   "file_extension": ".py",
   "mimetype": "text/x-python",
   "name": "python",
   "nbconvert_exporter": "python",
   "pygments_lexer": "ipython3",
   "version": "3.12.7"
  }
 },
 "nbformat": 4,
 "nbformat_minor": 2
}
